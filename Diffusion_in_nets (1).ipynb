{
 "cells": [
  {
   "cell_type": "code",
   "execution_count": 1,
   "metadata": {
    "colab": {},
    "colab_type": "code",
    "id": "AGhWBtmPSdCb"
   },
   "outputs": [],
   "source": [
    "import pandas as pd\n",
    "import networkx as nx\n",
    "import matplotlib.pyplot as plt\n",
    "import numpy as np\n",
    "\n",
    "from tqdm import tqdm\n",
    "import ndlib.models.epidemics.SIModel as si\n",
    "import ndlib.models.ModelConfig as mc"
   ]
  },
  {
   "cell_type": "code",
   "execution_count": 3,
   "metadata": {
    "colab": {
     "base_uri": "https://localhost:8080/",
     "height": 202
    },
    "colab_type": "code",
    "id": "IXvUzteyTzXM",
    "outputId": "25c309d7-2e03-4c5c-a77f-f41d86558b2c"
   },
   "outputs": [
    {
     "data": {
      "text/html": [
       "<div>\n",
       "<style scoped>\n",
       "    .dataframe tbody tr th:only-of-type {\n",
       "        vertical-align: middle;\n",
       "    }\n",
       "\n",
       "    .dataframe tbody tr th {\n",
       "        vertical-align: top;\n",
       "    }\n",
       "\n",
       "    .dataframe thead th {\n",
       "        text-align: right;\n",
       "    }\n",
       "</style>\n",
       "<table border=\"1\" class=\"dataframe\">\n",
       "  <thead>\n",
       "    <tr style=\"text-align: right;\">\n",
       "      <th></th>\n",
       "      <th>source</th>\n",
       "      <th>target</th>\n",
       "      <th>weight</th>\n",
       "    </tr>\n",
       "  </thead>\n",
       "  <tbody>\n",
       "    <tr>\n",
       "      <th>0</th>\n",
       "      <td>a</td>\n",
       "      <td>alphabet</td>\n",
       "      <td>0.066</td>\n",
       "    </tr>\n",
       "    <tr>\n",
       "      <th>1</th>\n",
       "      <td>a</td>\n",
       "      <td>apple</td>\n",
       "      <td>0.013</td>\n",
       "    </tr>\n",
       "    <tr>\n",
       "      <th>2</th>\n",
       "      <td>a</td>\n",
       "      <td>grade</td>\n",
       "      <td>0.059</td>\n",
       "    </tr>\n",
       "    <tr>\n",
       "      <th>3</th>\n",
       "      <td>a</td>\n",
       "      <td>great</td>\n",
       "      <td>0.013</td>\n",
       "    </tr>\n",
       "    <tr>\n",
       "      <th>4</th>\n",
       "      <td>a</td>\n",
       "      <td>letter</td>\n",
       "      <td>0.039</td>\n",
       "    </tr>\n",
       "  </tbody>\n",
       "</table>\n",
       "</div>"
      ],
      "text/plain": [
       "  source    target  weight\n",
       "0      a  alphabet   0.066\n",
       "1      a     apple   0.013\n",
       "2      a     grade   0.059\n",
       "3      a     great   0.013\n",
       "4      a    letter   0.039"
      ]
     },
     "execution_count": 3,
     "metadata": {},
     "output_type": "execute_result"
    }
   ],
   "source": [
    "net = pd.read_excel('assoc_eng2.xlsx') \n",
    "net.head()"
   ]
  },
  {
   "cell_type": "code",
   "execution_count": 4,
   "metadata": {
    "colab": {},
    "colab_type": "code",
    "id": "IzSN-_VOUB2b"
   },
   "outputs": [],
   "source": [
    "source = np.unique(net.source) \n",
    "target = np.unique(net.target)\n",
    "c = np.concatenate((np.array(source), np.array(target)))\n",
    "common_nodes = np.unique(c)\n",
    "dict_nodes = {}\n",
    "counter_nodes = 0\n",
    "\n",
    "for i in range(len(common_nodes)):\n",
    "    dict_nodes[common_nodes[i]] = counter_nodes\n",
    "    counter_nodes += 1\n",
    "\n",
    "\n",
    "\n",
    "source_l = []; target_l = []\n",
    "for i in range(len(net)):\n",
    "    source_l.append(dict_nodes[net['source'][i]])\n",
    "    target_l.append(dict_nodes[net['target'][i]])   "
   ]
  },
  {
   "cell_type": "code",
   "execution_count": 5,
   "metadata": {
    "colab": {
     "base_uri": "https://localhost:8080/",
     "height": 416
    },
    "colab_type": "code",
    "id": "ZaVvWeXtVsDo",
    "outputId": "1629a81b-455e-4944-e75b-84ddb8c57b44"
   },
   "outputs": [
    {
     "data": {
      "text/html": [
       "<div>\n",
       "<style scoped>\n",
       "    .dataframe tbody tr th:only-of-type {\n",
       "        vertical-align: middle;\n",
       "    }\n",
       "\n",
       "    .dataframe tbody tr th {\n",
       "        vertical-align: top;\n",
       "    }\n",
       "\n",
       "    .dataframe thead th {\n",
       "        text-align: right;\n",
       "    }\n",
       "</style>\n",
       "<table border=\"1\" class=\"dataframe\">\n",
       "  <thead>\n",
       "    <tr style=\"text-align: right;\">\n",
       "      <th></th>\n",
       "      <th>t</th>\n",
       "      <th>s</th>\n",
       "    </tr>\n",
       "  </thead>\n",
       "  <tbody>\n",
       "    <tr>\n",
       "      <th>0</th>\n",
       "      <td>116</td>\n",
       "      <td>0</td>\n",
       "    </tr>\n",
       "    <tr>\n",
       "      <th>1</th>\n",
       "      <td>175</td>\n",
       "      <td>0</td>\n",
       "    </tr>\n",
       "    <tr>\n",
       "      <th>2</th>\n",
       "      <td>1932</td>\n",
       "      <td>0</td>\n",
       "    </tr>\n",
       "    <tr>\n",
       "      <th>3</th>\n",
       "      <td>1957</td>\n",
       "      <td>0</td>\n",
       "    </tr>\n",
       "    <tr>\n",
       "      <th>4</th>\n",
       "      <td>2503</td>\n",
       "      <td>0</td>\n",
       "    </tr>\n",
       "    <tr>\n",
       "      <th>...</th>\n",
       "      <td>...</td>\n",
       "      <td>...</td>\n",
       "    </tr>\n",
       "    <tr>\n",
       "      <th>63624</th>\n",
       "      <td>2327</td>\n",
       "      <td>5018</td>\n",
       "    </tr>\n",
       "    <tr>\n",
       "      <th>63625</th>\n",
       "      <td>2877</td>\n",
       "      <td>5018</td>\n",
       "    </tr>\n",
       "    <tr>\n",
       "      <th>63626</th>\n",
       "      <td>4174</td>\n",
       "      <td>5018</td>\n",
       "    </tr>\n",
       "    <tr>\n",
       "      <th>63627</th>\n",
       "      <td>4771</td>\n",
       "      <td>5018</td>\n",
       "    </tr>\n",
       "    <tr>\n",
       "      <th>63628</th>\n",
       "      <td>5007</td>\n",
       "      <td>5018</td>\n",
       "    </tr>\n",
       "  </tbody>\n",
       "</table>\n",
       "<p>63629 rows × 2 columns</p>\n",
       "</div>"
      ],
      "text/plain": [
       "          t     s\n",
       "0       116     0\n",
       "1       175     0\n",
       "2      1932     0\n",
       "3      1957     0\n",
       "4      2503     0\n",
       "...     ...   ...\n",
       "63624  2327  5018\n",
       "63625  2877  5018\n",
       "63626  4174  5018\n",
       "63627  4771  5018\n",
       "63628  5007  5018\n",
       "\n",
       "[63629 rows x 2 columns]"
      ]
     },
     "execution_count": 5,
     "metadata": {},
     "output_type": "execute_result"
    }
   ],
   "source": [
    "new_net = pd.DataFrame (np.array([target_l, source_l]).T, \n",
    "                        columns = ['t', 's'])\n",
    "new_net"
   ]
  },
  {
   "cell_type": "code",
   "execution_count": 6,
   "metadata": {
    "colab": {},
    "colab_type": "code",
    "id": "kiUopq4ET1FD"
   },
   "outputs": [],
   "source": [
    "invert_graph = nx.from_pandas_edgelist(new_net, 't', 's', create_using=nx.DiGraph()) "
   ]
  },
  {
   "cell_type": "code",
   "execution_count": 7,
   "metadata": {
    "colab": {},
    "colab_type": "code",
    "id": "fS1HdG-AXFRt"
   },
   "outputs": [],
   "source": [
    "in_degr = [i for node, i in invert_graph.in_degree()]\n",
    "mean_in_degree = np.mean(in_degr)\n",
    "max_in_degree = max(in_degr)\n",
    "min_in_degree = min(in_degr)  \n",
    "\n",
    "#out_degr = [i for node, i in graph.out_degree()]\n",
    "#max_out_degree = max(out_degr)\n",
    "#mean_out_degree = np.mean(out_degr)\n",
    "#min_out_degree = min(out_degr)  "
   ]
  },
  {
   "cell_type": "code",
   "execution_count": 14,
   "metadata": {
    "colab": {
     "base_uri": "https://localhost:8080/",
     "height": 265
    },
    "colab_type": "code",
    "id": "Aw-xfZxZZFkh",
    "outputId": "a3710346-f402-4d1b-e38c-7a8a7f859c77"
   },
   "outputs": [
    {
     "data": {
      "image/png": "[encoded data removed]",
      "text/plain": [
       "<Figure size 432x288 with 1 Axes>"
      ]
     },
     "metadata": {
      "needs_background": "light"
     },
     "output_type": "display_data"
    }
   ],
   "source": [
    "plt.hist(in_degr, bins = 100)\n",
    "plt.title('in')\n",
    "plt.savefig('in_degr.png')"
   ]
  },
  {
   "cell_type": "code",
   "execution_count": 15,
   "metadata": {},
   "outputs": [
    {
     "data": {
      "image/png": "[encoded data removed]",
      "text/plain": [
       "<Figure size 432x288 with 1 Axes>"
      ]
     },
     "metadata": {
      "needs_background": "light"
     },
     "output_type": "display_data"
    }
   ],
   "source": [
    "out_degr = [i for node, i in invert_graph.out_degree()]\n",
    "plt.hist(out_degr, bins = 50)\n",
    "plt.savefig('out_degr.png')"
   ]
  },
  {
   "cell_type": "code",
   "execution_count": 14,
   "metadata": {
    "colab": {
     "base_uri": "https://localhost:8080/",
     "height": 69
    },
    "colab_type": "code",
    "id": "rDQ5mgbRZH6P",
    "outputId": "495afb09-2f59-4405-ee82-23873cb8cfd3"
   },
   "outputs": [
    {
     "name": "stdout",
     "output_type": "stream",
     "text": [
      "Mean degree:  12.67762502490536\n",
      "Max degree:  33\n",
      "Min degree:  1\n"
     ]
    }
   ],
   "source": [
    "print('Mean degree: ', mean_in_degree)\n",
    "print('Max degree: ', max_in_degree )\n",
    "print('Min degree: ', min_in_degree)"
   ]
  },
  {
   "cell_type": "code",
   "execution_count": 15,
   "metadata": {
    "colab": {},
    "colab_type": "code",
    "id": "xyjK9gA0nMbk"
   },
   "outputs": [],
   "source": [
    "# неинвертирвоанный граф\n",
    "init_net = pd.DataFrame (np.array([source_l, target_l]).T, \n",
    "                        columns = ['s', 't'])\n",
    "graph = nx.from_pandas_edgelist(init_net, 's', 't', create_using = nx.DiGraph())"
   ]
  },
  {
   "cell_type": "code",
   "execution_count": 16,
   "metadata": {
    "colab": {
     "base_uri": "https://localhost:8080/",
     "height": 265
    },
    "colab_type": "code",
    "id": "qjed-m73ncdL",
    "outputId": "598442c5-e708-45e1-dea9-8b94ebeddb75"
   },
   "outputs": [
    {
     "data": {
      "image/png": "[encoded data removed]",
      "text/plain": [
       "<Figure size 432x288 with 1 Axes>"
      ]
     },
     "metadata": {
      "needs_background": "light",
      "tags": []
     },
     "output_type": "display_data"
    }
   ],
   "source": [
    "nin_degr = [i for node, i in graph.in_degree()]\n",
    "nmean_in_degree = np.mean(nin_degr)\n",
    "nmax_in_degree = max(nin_degr)\n",
    "nmin_in_degree = min(nin_degr)  \n",
    "\n",
    "plt.hist(nin_degr)\n",
    "plt.show()"
   ]
  },
  {
   "cell_type": "code",
   "execution_count": 17,
   "metadata": {
    "colab": {
     "base_uri": "https://localhost:8080/",
     "height": 69
    },
    "colab_type": "code",
    "id": "aEx3QLjXnoDi",
    "outputId": "02a3bef5-5998-4627-e476-ad0d2341b580"
   },
   "outputs": [
    {
     "name": "stdout",
     "output_type": "stream",
     "text": [
      "Mean degree:  12.67762502490536\n",
      "Max degree:  324\n",
      "Min degree:  0\n"
     ]
    }
   ],
   "source": [
    "print('Mean degree: ', nmean_in_degree)\n",
    "print('Max degree: ', nmax_in_degree )\n",
    "print('Min degree: ', nmin_in_degree)"
   ]
  },
  {
   "cell_type": "markdown",
   "metadata": {
    "colab_type": "text",
    "id": "1BWz-gUvcahX"
   },
   "source": [
    "SIR model"
   ]
  },
  {
   "cell_type": "code",
   "execution_count": 18,
   "metadata": {
    "colab": {
     "base_uri": "https://localhost:8080/",
     "height": 300
    },
    "colab_type": "code",
    "id": "WNsthP-actEK",
    "outputId": "d0e79cb6-62a5-4a7c-f851-9284b655689c"
   },
   "outputs": [
    {
     "data": {
      "text/plain": [
       "<matplotlib.legend.Legend at 0x7fa43891bc88>"
      ]
     },
     "execution_count": 18,
     "metadata": {
      "tags": []
     },
     "output_type": "execute_result"
    },
    {
     "data": {
      "image/png": "[encoded data removed]",
      "text/plain": [
       "<Figure size 432x288 with 1 Axes>"
      ]
     },
     "metadata": {
      "needs_background": "light",
      "tags": []
     },
     "output_type": "display_data"
    }
   ],
   "source": [
    "from scipy.integrate import odeint\n",
    "# The SIR model differential equations.\n",
    "def deriv(s0, t, beta_k, mu):\n",
    "    x, y, z = s0 #\n",
    "    dxdt = beta_k * (1-x-z)- mu* x\n",
    "    dydt = -beta_k * (1-x-z)\n",
    "    dzdt = mu * x\n",
    "    return dxdt, dydt, dzdt\n",
    "\n",
    "\n",
    "beta_k, mu = 0.2, 1./10 # model parameters\n",
    "s0 = 0.01, 0.99, 0\n",
    "t=np.linspace(0,80,100)\n",
    "\n",
    "ret = odeint(deriv, s0, t, args=( beta_k, mu))\n",
    "x, y, z = ret.T\n",
    "\n",
    "plt.plot(t, x, 'r', alpha=0.5, lw=2, label='Infected')\n",
    "plt.plot(t, y, 'b', alpha=0.5, lw=2, label='Susceptible')\n",
    "plt.plot(t, z, 'g', alpha=0.5, lw=2, label='Recovered')\n",
    "plt.xlabel('Time',fontsize=14)\n",
    "plt.ylabel('Fraction',fontsize=14)\n",
    "plt.legend(loc='upper right')"
   ]
  },
  {
   "cell_type": "code",
   "execution_count": 19,
   "metadata": {
    "colab": {
     "base_uri": "https://localhost:8080/",
     "height": 34
    },
    "colab_type": "code",
    "id": "MgQmqvqbdTZq",
    "outputId": "cc8dc231-c663-41d9-80ff-c62aed8c41a1"
   },
   "outputs": [
    {
     "name": "stderr",
     "output_type": "stream",
     "text": [
      "100%|██████████| 1000/1000 [00:26<00:00, 37.36it/s]\n"
     ]
    }
   ],
   "source": [
    "N=5019\n",
    "\n",
    "import ndlib.models.epidemics as sir\n",
    "\n",
    "sir_model = sir.SIRModel(graph)\n",
    "\n",
    "\n",
    "config = mc.Configuration()\n",
    "config.add_model_parameter('beta', 0.005)\n",
    "config.add_model_parameter('gamma',0.003)\n",
    "config.add_model_parameter(\"percentage_infected\", 0.05)\n",
    "sir_model.set_initial_status(config)\n",
    "\n",
    "iterations = sir_model.iteration_bunch(1000)\n",
    "susceptible,infected,recovered = [],[],[]\n",
    " \n",
    "for iteration in iterations:\n",
    "    node_count = iteration['node_count']\n",
    "    susceptible.append(node_count[0]/N)\n",
    "    infected.append(node_count[1]/N)\n",
    "    recovered.append(node_count[2]/N)"
   ]
  },
  {
   "cell_type": "code",
   "execution_count": 20,
   "metadata": {
    "colab": {
     "base_uri": "https://localhost:8080/",
     "height": 316
    },
    "colab_type": "code",
    "id": "_BY7rR-9g0lg",
    "outputId": "9e377783-aef6-44d9-9665-85f51efe9000"
   },
   "outputs": [
    {
     "data": {
      "text/plain": [
       "<matplotlib.legend.Legend at 0x7fa43a416e48>"
      ]
     },
     "execution_count": 20,
     "metadata": {
      "tags": []
     },
     "output_type": "execute_result"
    },
    {
     "data": {
      "image/png": "[encoded data removed]",
      "text/plain": [
       "<Figure size 432x288 with 1 Axes>"
      ]
     },
     "metadata": {
      "needs_background": "light",
      "tags": []
     },
     "output_type": "display_data"
    }
   ],
   "source": [
    "plt.figure(figsize = (6,4))\n",
    "plt.title('SIR')\n",
    "plt.plot(infected,color='r',label='infected')\n",
    "plt.plot(susceptible, color='b',label='susceptible')\n",
    "plt.plot(recovered, color='k',label='recovered')\n",
    "plt.xlabel('time', fontsize = 14)\n",
    "plt.ylabel('node/N', fontsize = 14)\n",
    "plt.legend()\n",
    "#plt.savefig('SIR.png')"
   ]
  },
  {
   "cell_type": "code",
   "execution_count": 21,
   "metadata": {
    "colab": {
     "base_uri": "https://localhost:8080/",
     "height": 616
    },
    "colab_type": "code",
    "id": "W8RFp-4gNbPg",
    "outputId": "c7cf7f78-98c0-49a6-c679-900c4ae2c969"
   },
   "outputs": [
    {
     "name": "stderr",
     "output_type": "stream",
     "text": [
      "100%|██████████| 700/700 [00:18<00:00, 38.07it/s]\n"
     ]
    },
    {
     "data": {
      "image/png": "[encoded data removed]",
      "text/plain": [
       "<Figure size 432x288 with 1 Axes>"
      ]
     },
     "metadata": {
      "needs_background": "light",
      "tags": []
     },
     "output_type": "display_data"
    },
    {
     "name": "stderr",
     "output_type": "stream",
     "text": [
      "100%|██████████| 700/700 [00:19<00:00, 35.28it/s]\n"
     ]
    },
    {
     "data": {
      "image/png": "[encoded data removed]",
      "text/plain": [
       "<Figure size 432x288 with 1 Axes>"
      ]
     },
     "metadata": {
      "needs_background": "light",
      "tags": []
     },
     "output_type": "display_data"
    }
   ],
   "source": [
    "sir_model = sir.SIRModel(invert_graph)\n",
    "\n",
    "\n",
    "config = mc.Configuration()\n",
    "config.add_model_parameter('beta', 0.005)\n",
    "config.add_model_parameter('gamma',0.007)\n",
    "config.add_model_parameter(\"percentage_infected\", 0.05)\n",
    "sir_model.set_initial_status(config)\n",
    "\n",
    "iterations = sir_model.iteration_bunch(700)\n",
    "susceptible,infected,recovered = [],[],[]\n",
    " \n",
    "for iteration in iterations:\n",
    "    node_count = iteration['node_count']\n",
    "    susceptible.append(node_count[0]/N)\n",
    "    infected.append(node_count[1]/N)\n",
    "    recovered.append(node_count[2]/N)\n",
    "\n",
    "plt.figure(figsize = (6,4))\n",
    "plt.title('SIR for inverted net')\n",
    "plt.plot(infected,color='r',label='infected')\n",
    "plt.plot(susceptible, color='b',label='susceptible')\n",
    "plt.plot(recovered, color='k',label='recovered')\n",
    "plt.xlabel('time', fontsize = 14)\n",
    "plt.ylabel('node/N', fontsize = 14)\n",
    "plt.legend()\n",
    "plt.show()\n",
    "\n",
    "###########################\n",
    "\n",
    "sir_model = sir.SIRModel(graph)\n",
    "\n",
    "config = mc.Configuration()\n",
    "config.add_model_parameter('beta', 0.005)\n",
    "config.add_model_parameter('gamma',0.007)\n",
    "config.add_model_parameter(\"percentage_infected\", 0.05)\n",
    "sir_model.set_initial_status(config)\n",
    "\n",
    "iterations = sir_model.iteration_bunch(700)\n",
    "susceptible,infected,recovered = [],[],[]\n",
    " \n",
    "for iteration in iterations:\n",
    "    node_count = iteration['node_count']\n",
    "    susceptible.append(node_count[0]/N)\n",
    "    infected.append(node_count[1]/N)\n",
    "    recovered.append(node_count[2]/N)\n",
    "\n",
    "plt.figure(figsize = (6,4))\n",
    "plt.title('SIR for original net')\n",
    "plt.plot(infected,color='r',label='infected')\n",
    "plt.plot(susceptible, color='b',label='susceptible')\n",
    "plt.plot(recovered, color='k',label='recovered')\n",
    "plt.xlabel('time', fontsize = 14)\n",
    "plt.ylabel('node/N', fontsize = 14)\n",
    "plt.legend()\n",
    "plt.show()"
   ]
  },
  {
   "cell_type": "code",
   "execution_count": 22,
   "metadata": {
    "colab": {
     "base_uri": "https://localhost:8080/",
     "height": 34
    },
    "colab_type": "code",
    "id": "acz8u-Aqq4A_",
    "outputId": "787b62ea-dc57-488f-ff43-f92444ab6dd7"
   },
   "outputs": [
    {
     "name": "stdout",
     "output_type": "stream",
     "text": [
      "epidemic coefficient: 9.055446446360973\n"
     ]
    }
   ],
   "source": [
    "print('epidemic coefficient:', 0.005*mean_in_degree/0.007)"
   ]
  },
  {
   "cell_type": "code",
   "execution_count": 23,
   "metadata": {
    "colab": {
     "base_uri": "https://localhost:8080/",
     "height": 333
    },
    "colab_type": "code",
    "id": "42KaJi13tmzO",
    "outputId": "439e0c58-1150-48b7-b598-1f2edf582cab"
   },
   "outputs": [
    {
     "name": "stderr",
     "output_type": "stream",
     "text": [
      "100%|██████████| 1000/1000 [00:31<00:00, 32.21it/s]\n"
     ]
    },
    {
     "data": {
      "text/plain": [
       "<matplotlib.legend.Legend at 0x7fa43cdb4d68>"
      ]
     },
     "execution_count": 23,
     "metadata": {
      "tags": []
     },
     "output_type": "execute_result"
    },
    {
     "data": {
      "image/png": "[encoded data removed]",
      "text/plain": [
       "<Figure size 432x288 with 1 Axes>"
      ]
     },
     "metadata": {
      "needs_background": "light",
      "tags": []
     },
     "output_type": "display_data"
    }
   ],
   "source": [
    "sir_model = sir.SIRModel(graph)\n",
    "\n",
    "config = mc.Configuration()\n",
    "config.add_model_parameter('beta', 0.005)\n",
    "config.add_model_parameter('gamma',0.02)\n",
    "config.add_model_parameter(\"percentage_infected\", 0.01)\n",
    "sir_model.set_initial_status(config)\n",
    "\n",
    "iterations = sir_model.iteration_bunch(1000)\n",
    "susceptible,infected,recovered = [],[],[]\n",
    " \n",
    "for iteration in iterations:\n",
    "    node_count = iteration['node_count']\n",
    "    susceptible.append(node_count[0]/N)\n",
    "    infected.append(node_count[1]/N)\n",
    "    recovered.append(node_count[2]/N)\n",
    "\n",
    "plt.figure(figsize = (6,4))\n",
    "plt.title('SIR')\n",
    "plt.plot(infected,color='r',label='infected')\n",
    "plt.plot(susceptible, color='b',label='susceptible')\n",
    "plt.plot(recovered, color='k',label='recovered')\n",
    "plt.xlabel('time', fontsize = 14)\n",
    "plt.ylabel('node/N', fontsize = 14)\n",
    "plt.legend()"
   ]
  },
  {
   "cell_type": "code",
   "execution_count": 23,
   "metadata": {
    "colab": {},
    "colab_type": "code",
    "id": "qJZXlKJ-ugbR"
   },
   "outputs": [],
   "source": []
  },
  {
   "cell_type": "markdown",
   "metadata": {
    "colab_type": "text",
    "id": "AMk1Plj-47pB"
   },
   "source": [
    "### Исследование транзитивности\n",
    "\n",
    "(число троек в графе)"
   ]
  },
  {
   "cell_type": "code",
   "execution_count": 24,
   "metadata": {
    "colab": {
     "base_uri": "https://localhost:8080/",
     "height": 34
    },
    "colab_type": "code",
    "id": "Faa5Yx5F5CBN",
    "outputId": "ec9a4081-913f-4481-bb17-cc64d2f20906"
   },
   "outputs": [
    {
     "data": {
      "text/plain": [
       "False"
      ]
     },
     "execution_count": 24,
     "metadata": {
      "tags": []
     },
     "output_type": "execute_result"
    }
   ],
   "source": [
    "nx.transitivity(invert_graph) == nx.transitivity(graph)"
   ]
  },
  {
   "cell_type": "code",
   "execution_count": 25,
   "metadata": {
    "colab": {
     "base_uri": "https://localhost:8080/",
     "height": 34
    },
    "colab_type": "code",
    "id": "2qYq3AQ45Hhl",
    "outputId": "cabeecbc-9222-49f3-c115-8f026a668e8b"
   },
   "outputs": [
    {
     "data": {
      "text/plain": [
       "(0.03549719211963905, 0.1228734955845273)"
      ]
     },
     "execution_count": 25,
     "metadata": {
      "tags": []
     },
     "output_type": "execute_result"
    }
   ],
   "source": [
    "nx.transitivity(invert_graph), nx.transitivity(graph)"
   ]
  },
  {
   "cell_type": "markdown",
   "metadata": {
    "colab_type": "text",
    "id": "t5HTvQ485Ujc"
   },
   "source": [
    "### Randomization - degree preserving randomization. \n",
    "(Make permutations preserving nodes' degree)\n",
    "\n",
    "Show wheather variations in the given net are an artifact of graph's inherent structure or nodes properties.\n",
    "\n",
    "nodes' degree is the same but the graph's structure is changed\n"
   ]
  },
  {
   "cell_type": "code",
   "execution_count": 26,
   "metadata": {
    "colab": {
     "base_uri": "https://localhost:8080/",
     "height": 124
    },
    "colab_type": "code",
    "id": "SeVq6IEZ5dQ1",
    "outputId": "cdb7fd4b-2a03-4da9-c42e-60014f583f23"
   },
   "outputs": [
    {
     "name": "stdout",
     "output_type": "stream",
     "text": [
      "Collecting xswap\n",
      "\u001b[?25l  Downloading https://files.pythonhosted.org/packages/45/65/3d4ca9533f18b107917906a09b920b8a8d716772d5fa9c29285256941e89/xswap-0.0.2-cp36-cp36m-manylinux2010_x86_64.whl (471kB)\n",
      "\u001b[K     |████████████████████████████████| 481kB 2.7MB/s \n",
      "\u001b[?25hInstalling collected packages: xswap\n",
      "Successfully installed xswap-0.0.2\n"
     ]
    }
   ],
   "source": [
    "!pip install xswap\n",
    "import xswap "
   ]
  },
  {
   "cell_type": "code",
   "execution_count": null,
   "metadata": {
    "colab": {},
    "colab_type": "code",
    "id": "zybK6oDofWSA"
   },
   "outputs": [],
   "source": [
    "#invert_graph.edges"
   ]
  },
  {
   "cell_type": "code",
   "execution_count": 7,
   "metadata": {
    "colab": {
     "base_uri": "https://localhost:8080/",
     "height": 200
    },
    "colab_type": "code",
    "id": "kfwuf_x5eMXd",
    "outputId": "9a2dd29c-ce34-4f62-ecf9-3d7a7e6bedb8"
   },
   "outputs": [
    {
     "ename": "NameError",
     "evalue": "ignored",
     "output_type": "error",
     "traceback": [
      "\u001b[0;31m---------------------------------------------------------------------------\u001b[0m",
      "\u001b[0;31mNameError\u001b[0m                                 Traceback (most recent call last)",
      "\u001b[0;32m<ipython-input-7-022a0063d027>\u001b[0m in \u001b[0;36m<module>\u001b[0;34m()\u001b[0m\n\u001b[1;32m      1\u001b[0m \u001b[0;31m# транзитивность для инвертирвоанного\u001b[0m\u001b[0;34m\u001b[0m\u001b[0;34m\u001b[0m\u001b[0;34m\u001b[0m\u001b[0m\n\u001b[0;32m----> 2\u001b[0;31m \u001b[0mrand_edges\u001b[0m \u001b[0;34m=\u001b[0m \u001b[0mxswap\u001b[0m\u001b[0;34m.\u001b[0m\u001b[0mpermute_edge_list\u001b[0m\u001b[0;34m(\u001b[0m\u001b[0mlist\u001b[0m\u001b[0;34m(\u001b[0m\u001b[0minvert_graph\u001b[0m\u001b[0;34m.\u001b[0m\u001b[0medges\u001b[0m\u001b[0;34m)\u001b[0m\u001b[0;34m,\u001b[0m \u001b[0mallow_self_loops\u001b[0m\u001b[0;34m=\u001b[0m\u001b[0;32mFalse\u001b[0m\u001b[0;34m,\u001b[0m \u001b[0mallow_antiparallel\u001b[0m\u001b[0;34m=\u001b[0m\u001b[0;32mFalse\u001b[0m\u001b[0;34m,\u001b[0m \u001b[0mmultiplier\u001b[0m \u001b[0;34m=\u001b[0m \u001b[0;36m10\u001b[0m\u001b[0;34m)\u001b[0m\u001b[0;34m\u001b[0m\u001b[0;34m\u001b[0m\u001b[0m\n\u001b[0m\u001b[1;32m      3\u001b[0m \u001b[0mrand_invert_graph\u001b[0m \u001b[0;34m=\u001b[0m \u001b[0mnx\u001b[0m\u001b[0;34m.\u001b[0m\u001b[0mfrom_edgelist\u001b[0m\u001b[0;34m(\u001b[0m\u001b[0mrand_edges\u001b[0m\u001b[0;34m[\u001b[0m\u001b[0;36m0\u001b[0m\u001b[0;34m]\u001b[0m\u001b[0;34m,\u001b[0m \u001b[0mcreate_using\u001b[0m\u001b[0;34m=\u001b[0m\u001b[0mnx\u001b[0m\u001b[0;34m.\u001b[0m\u001b[0mDiGraph\u001b[0m\u001b[0;34m(\u001b[0m\u001b[0;34m)\u001b[0m\u001b[0;34m)\u001b[0m\u001b[0;34m\u001b[0m\u001b[0;34m\u001b[0m\u001b[0m\n",
      "\u001b[0;31mNameError\u001b[0m: name 'xswap' is not defined"
     ]
    }
   ],
   "source": [
    "# транзитивность для инвертирвоанного\n",
    "rand_edges = xswap.permute_edge_list(list(invert_graph.edges), allow_self_loops=False, allow_antiparallel=False, multiplier = 10)\n",
    "rand_invert_graph = nx.from_edgelist(rand_edges[0], create_using=nx.DiGraph())"
   ]
  },
  {
   "cell_type": "code",
   "execution_count": null,
   "metadata": {
    "colab": {},
    "colab_type": "code",
    "id": "zAxaWvqMlkIL"
   },
   "outputs": [],
   "source": [
    "nx.transitivity(rand_invert_graph)"
   ]
  },
  {
   "cell_type": "code",
   "execution_count": null,
   "metadata": {
    "colab": {
     "base_uri": "https://localhost:8080/",
     "height": 34
    },
    "colab_type": "code",
    "id": "A2OjxjXbi5Bu",
    "outputId": "f3f58d42-1549-4559-c89d-40df32971299"
   },
   "outputs": [
    {
     "name": "stdout",
     "output_type": "stream",
     "text": [
      "Delta: -0.03256989397213818\n"
     ]
    }
   ],
   "source": [
    "print('Delta:', nx.transitivity(rand_invert_graph) - nx.transitivity(invert_graph))"
   ]
  },
  {
   "cell_type": "code",
   "execution_count": null,
   "metadata": {
    "colab": {
     "base_uri": "https://localhost:8080/",
     "height": 1000
    },
    "colab_type": "code",
    "id": "C7fefal3ucne",
    "outputId": "65829210-2ab9-4417-9a19-9a209e6db647"
   },
   "outputs": [
    {
     "name": "stderr",
     "output_type": "stream",
     "text": [
      "\n",
      "  0%|          | 0/700 [00:00<?, ?it/s]\u001b[A\n",
      "  1%|          | 4/700 [00:00<00:19, 36.02it/s]\u001b[A\n",
      "  1%|          | 7/700 [00:00<00:20, 33.01it/s]\u001b[A\n",
      "  1%|▏         | 10/700 [00:00<00:21, 31.37it/s]\u001b[A\n",
      "  2%|▏         | 13/700 [00:00<00:22, 29.92it/s]\u001b[A\n",
      "  2%|▏         | 16/700 [00:00<00:23, 28.52it/s]\u001b[A\n",
      "  3%|▎         | 19/700 [00:00<00:24, 27.88it/s]\u001b[A\n",
      "  3%|▎         | 22/700 [00:00<00:24, 27.89it/s]\u001b[A\n",
      "  4%|▎         | 25/700 [00:00<00:24, 27.57it/s]\u001b[A\n",
      "  4%|▍         | 28/700 [00:00<00:24, 27.74it/s]\u001b[A\n",
      "  4%|▍         | 31/700 [00:01<00:23, 27.96it/s]\u001b[A\n",
      "  5%|▍         | 34/700 [00:01<00:23, 28.16it/s]\u001b[A\n",
      "  5%|▌         | 37/700 [00:01<00:23, 28.36it/s]\u001b[A\n",
      "  6%|▌         | 40/700 [00:01<00:23, 28.46it/s]\u001b[A\n",
      "  6%|▌         | 43/700 [00:01<00:23, 28.55it/s]\u001b[A\n",
      "  7%|▋         | 46/700 [00:01<00:22, 28.71it/s]\u001b[A\n",
      "  7%|▋         | 49/700 [00:01<00:22, 28.90it/s]\u001b[A\n",
      "  7%|▋         | 52/700 [00:01<00:22, 28.88it/s]\u001b[A\n",
      "  8%|▊         | 56/700 [00:01<00:21, 29.42it/s]\u001b[A\n",
      "  8%|▊         | 59/700 [00:02<00:21, 29.53it/s]\u001b[A\n",
      "  9%|▉         | 63/700 [00:02<00:21, 30.12it/s]\u001b[A\n",
      " 10%|▉         | 67/700 [00:02<00:20, 30.74it/s]\u001b[A\n",
      " 10%|█         | 71/700 [00:02<00:20, 31.13it/s]\u001b[A\n",
      " 11%|█         | 75/700 [00:02<00:19, 31.36it/s]\u001b[A\n",
      " 11%|█▏        | 79/700 [00:02<00:19, 31.70it/s]\u001b[A\n",
      " 12%|█▏        | 83/700 [00:02<00:19, 32.12it/s]\u001b[A\n",
      " 12%|█▏        | 87/700 [00:02<00:18, 32.28it/s]\u001b[A\n",
      " 13%|█▎        | 91/700 [00:03<00:18, 32.76it/s]\u001b[A\n",
      " 14%|█▎        | 95/700 [00:03<00:18, 33.47it/s]\u001b[A\n",
      " 14%|█▍        | 99/700 [00:03<00:17, 34.11it/s]\u001b[A\n",
      " 15%|█▍        | 103/700 [00:03<00:17, 34.62it/s]\u001b[A\n",
      " 15%|█▌        | 107/700 [00:03<00:17, 34.85it/s]\u001b[A\n",
      " 16%|█▌        | 111/700 [00:03<00:16, 35.37it/s]\u001b[A\n",
      " 16%|█▋        | 115/700 [00:03<00:16, 35.78it/s]\u001b[A\n",
      " 17%|█▋        | 119/700 [00:03<00:16, 35.12it/s]\u001b[A\n",
      " 18%|█▊        | 123/700 [00:03<00:16, 35.14it/s]\u001b[A\n",
      " 18%|█▊        | 127/700 [00:04<00:15, 35.83it/s]\u001b[A\n",
      " 19%|█▊        | 131/700 [00:04<00:15, 35.88it/s]\u001b[A\n",
      " 19%|█▉        | 135/700 [00:04<00:15, 36.23it/s]\u001b[A\n",
      " 20%|█▉        | 139/700 [00:04<00:15, 36.80it/s]\u001b[A\n",
      " 20%|██        | 143/700 [00:04<00:14, 37.14it/s]\u001b[A\n",
      " 21%|██        | 147/700 [00:04<00:14, 37.28it/s]\u001b[A\n",
      " 22%|██▏       | 151/700 [00:04<00:14, 36.97it/s]\u001b[A\n",
      " 22%|██▏       | 155/700 [00:04<00:14, 37.11it/s]\u001b[A\n",
      " 23%|██▎       | 159/700 [00:04<00:14, 37.01it/s]\u001b[A\n",
      " 23%|██▎       | 163/700 [00:05<00:14, 36.69it/s]\u001b[A\n",
      " 24%|██▍       | 167/700 [00:05<00:14, 36.94it/s]\u001b[A\n",
      " 24%|██▍       | 171/700 [00:05<00:14, 37.31it/s]\u001b[A\n",
      " 25%|██▌       | 175/700 [00:05<00:14, 37.47it/s]\u001b[A\n",
      " 26%|██▌       | 179/700 [00:05<00:13, 37.86it/s]\u001b[A\n",
      " 26%|██▌       | 183/700 [00:05<00:13, 37.78it/s]\u001b[A\n",
      " 27%|██▋       | 187/700 [00:05<00:13, 37.96it/s]\u001b[A\n",
      " 27%|██▋       | 191/700 [00:05<00:13, 38.29it/s]\u001b[A\n",
      " 28%|██▊       | 195/700 [00:05<00:13, 38.55it/s]\u001b[A\n",
      " 28%|██▊       | 199/700 [00:05<00:13, 37.64it/s]\u001b[A\n",
      " 29%|██▉       | 203/700 [00:06<00:13, 37.93it/s]\u001b[A\n",
      " 30%|██▉       | 207/700 [00:06<00:12, 37.99it/s]\u001b[A\n",
      " 30%|███       | 211/700 [00:06<00:12, 38.09it/s]\u001b[A\n",
      " 31%|███       | 215/700 [00:06<00:12, 38.15it/s]\u001b[A\n",
      " 31%|███▏      | 219/700 [00:06<00:12, 37.82it/s]\u001b[A\n",
      " 32%|███▏      | 223/700 [00:06<00:12, 38.11it/s]\u001b[A\n",
      " 32%|███▏      | 227/700 [00:06<00:12, 38.22it/s]\u001b[A\n",
      " 33%|███▎      | 231/700 [00:06<00:12, 38.43it/s]\u001b[A\n",
      " 34%|███▎      | 235/700 [00:06<00:12, 37.07it/s]\u001b[A\n",
      " 34%|███▍      | 239/700 [00:07<00:12, 37.63it/s]\u001b[A\n",
      " 35%|███▍      | 243/700 [00:07<00:12, 38.02it/s]\u001b[A\n",
      " 35%|███▌      | 247/700 [00:07<00:11, 38.32it/s]\u001b[A\n",
      " 36%|███▌      | 251/700 [00:07<00:11, 38.17it/s]\u001b[A\n",
      " 36%|███▋      | 255/700 [00:07<00:11, 38.36it/s]\u001b[A\n",
      " 37%|███▋      | 259/700 [00:07<00:11, 36.88it/s]\u001b[A\n",
      " 38%|███▊      | 263/700 [00:07<00:11, 37.43it/s]\u001b[A\n",
      " 38%|███▊      | 267/700 [00:07<00:11, 37.37it/s]\u001b[A\n",
      " 39%|███▊      | 271/700 [00:07<00:11, 37.68it/s]\u001b[A\n",
      " 39%|███▉      | 275/700 [00:07<00:11, 37.44it/s]\u001b[A\n",
      " 40%|███▉      | 279/700 [00:08<00:11, 37.78it/s]\u001b[A\n",
      " 40%|████      | 283/700 [00:08<00:10, 38.20it/s]\u001b[A\n",
      " 41%|████      | 287/700 [00:08<00:10, 38.31it/s]\u001b[A\n",
      " 42%|████▏     | 291/700 [00:08<00:10, 38.65it/s]\u001b[A\n",
      " 42%|████▏     | 295/700 [00:08<00:10, 38.81it/s]\u001b[A\n",
      " 43%|████▎     | 299/700 [00:08<00:10, 38.66it/s]\u001b[A\n",
      " 43%|████▎     | 303/700 [00:08<00:10, 38.74it/s]\u001b[A\n",
      " 44%|████▍     | 307/700 [00:08<00:10, 39.08it/s]\u001b[A\n",
      " 44%|████▍     | 311/700 [00:08<00:09, 39.28it/s]\u001b[A\n",
      " 45%|████▌     | 315/700 [00:09<00:09, 38.88it/s]\u001b[A\n",
      " 46%|████▌     | 319/700 [00:09<00:09, 38.98it/s]\u001b[A\n",
      " 46%|████▌     | 323/700 [00:09<00:09, 38.58it/s]\u001b[A\n",
      " 47%|████▋     | 328/700 [00:09<00:09, 39.13it/s]\u001b[A\n",
      " 47%|████▋     | 332/700 [00:09<00:09, 39.31it/s]\u001b[A\n",
      " 48%|████▊     | 336/700 [00:09<00:09, 39.37it/s]\u001b[A\n",
      " 49%|████▊     | 340/700 [00:09<00:09, 39.07it/s]\u001b[A\n",
      " 49%|████▉     | 344/700 [00:09<00:09, 39.26it/s]\u001b[A\n",
      " 50%|████▉     | 348/700 [00:09<00:08, 39.40it/s]\u001b[A\n",
      " 50%|█████     | 352/700 [00:09<00:09, 38.35it/s]\u001b[A\n",
      " 51%|█████     | 357/700 [00:10<00:08, 39.04it/s]\u001b[A\n",
      " 52%|█████▏    | 361/700 [00:10<00:08, 39.30it/s]\u001b[A\n",
      " 52%|█████▏    | 365/700 [00:10<00:08, 39.44it/s]\u001b[A\n",
      " 53%|█████▎    | 369/700 [00:10<00:08, 39.32it/s]\u001b[A\n",
      " 53%|█████▎    | 373/700 [00:10<00:08, 39.47it/s]\u001b[A\n",
      " 54%|█████▍    | 377/700 [00:10<00:08, 39.55it/s]\u001b[A\n",
      " 54%|█████▍    | 381/700 [00:10<00:08, 39.47it/s]\u001b[A\n",
      " 55%|█████▌    | 385/700 [00:10<00:08, 39.34it/s]\u001b[A\n",
      " 56%|█████▌    | 390/700 [00:10<00:07, 39.75it/s]\u001b[A\n",
      " 56%|█████▋    | 394/700 [00:11<00:07, 39.26it/s]\u001b[A\n",
      " 57%|█████▋    | 398/700 [00:11<00:07, 39.47it/s]\u001b[A\n",
      " 57%|█████▋    | 402/700 [00:11<00:07, 39.38it/s]\u001b[A\n",
      " 58%|█████▊    | 407/700 [00:11<00:07, 39.73it/s]\u001b[A\n",
      " 59%|█████▉    | 412/700 [00:11<00:07, 39.98it/s]\u001b[A\n",
      " 59%|█████▉    | 416/700 [00:11<00:07, 39.44it/s]\u001b[A\n",
      " 60%|██████    | 420/700 [00:11<00:07, 39.52it/s]\u001b[A\n",
      " 61%|██████    | 424/700 [00:11<00:06, 39.46it/s]\u001b[A\n",
      " 61%|██████▏   | 429/700 [00:11<00:06, 39.78it/s]\u001b[A\n",
      " 62%|██████▏   | 433/700 [00:12<00:06, 38.48it/s]\u001b[A\n",
      " 62%|██████▏   | 437/700 [00:12<00:06, 38.89it/s]\u001b[A\n",
      " 63%|██████▎   | 442/700 [00:12<00:06, 39.48it/s]\u001b[A\n",
      " 64%|██████▎   | 446/700 [00:12<00:06, 39.55it/s]\u001b[A\n",
      " 64%|██████▍   | 450/700 [00:12<00:06, 39.53it/s]\u001b[A\n",
      " 65%|██████▍   | 454/700 [00:12<00:06, 39.41it/s]\u001b[A\n",
      " 65%|██████▌   | 458/700 [00:12<00:06, 39.33it/s]\u001b[A\n",
      " 66%|██████▌   | 462/700 [00:12<00:06, 39.32it/s]\u001b[A\n",
      " 67%|██████▋   | 466/700 [00:12<00:05, 39.13it/s]\u001b[A\n",
      " 67%|██████▋   | 470/700 [00:12<00:05, 39.34it/s]\u001b[A\n",
      " 68%|██████▊   | 474/700 [00:13<00:05, 39.14it/s]\u001b[A\n",
      " 68%|██████▊   | 478/700 [00:13<00:05, 38.98it/s]\u001b[A\n",
      " 69%|██████▉   | 483/700 [00:13<00:05, 39.45it/s]\u001b[A\n",
      " 70%|██████▉   | 487/700 [00:13<00:05, 39.57it/s]\u001b[A\n",
      " 70%|███████   | 491/700 [00:13<00:05, 39.63it/s]\u001b[A\n",
      " 71%|███████   | 495/700 [00:13<00:05, 39.19it/s]\u001b[A\n",
      " 71%|███████▏  | 499/700 [00:13<00:05, 39.19it/s]\u001b[A\n",
      " 72%|███████▏  | 504/700 [00:13<00:04, 39.66it/s]\u001b[A\n",
      " 73%|███████▎  | 509/700 [00:13<00:04, 39.99it/s]\u001b[A\n",
      " 73%|███████▎  | 514/700 [00:14<00:04, 39.31it/s]\u001b[A\n",
      " 74%|███████▍  | 518/700 [00:14<00:04, 39.36it/s]\u001b[A\n",
      " 75%|███████▍  | 522/700 [00:14<00:04, 39.45it/s]\u001b[A\n",
      " 75%|███████▌  | 526/700 [00:14<00:04, 39.47it/s]\u001b[A\n",
      " 76%|███████▌  | 530/700 [00:14<00:04, 39.09it/s]\u001b[A\n",
      " 76%|███████▋  | 535/700 [00:14<00:04, 39.59it/s]\u001b[A\n",
      " 77%|███████▋  | 539/700 [00:14<00:04, 39.61it/s]\u001b[A\n",
      " 78%|███████▊  | 544/700 [00:14<00:03, 40.09it/s]\u001b[A\n",
      " 78%|███████▊  | 549/700 [00:14<00:03, 40.34it/s]\u001b[A\n",
      " 79%|███████▉  | 554/700 [00:15<00:03, 39.13it/s]\u001b[A\n",
      " 80%|███████▉  | 558/700 [00:15<00:03, 39.24it/s]\u001b[A\n",
      " 80%|████████  | 562/700 [00:15<00:03, 39.45it/s]\u001b[A\n",
      " 81%|████████  | 567/700 [00:15<00:03, 39.82it/s]\u001b[A\n",
      " 82%|████████▏ | 571/700 [00:15<00:03, 39.39it/s]\u001b[A\n",
      " 82%|████████▏ | 576/700 [00:15<00:03, 39.71it/s]\u001b[A\n",
      " 83%|████████▎ | 581/700 [00:15<00:02, 40.11it/s]\u001b[A\n",
      " 84%|████████▎ | 586/700 [00:15<00:02, 40.14it/s]\u001b[A\n",
      " 84%|████████▍ | 591/700 [00:15<00:02, 40.12it/s]\u001b[A\n",
      " 85%|████████▌ | 596/700 [00:16<00:02, 39.48it/s]\u001b[A\n",
      " 86%|████████▌ | 601/700 [00:16<00:02, 39.98it/s]\u001b[A\n",
      " 87%|████████▋ | 606/700 [00:16<00:02, 40.21it/s]\u001b[A\n",
      " 87%|████████▋ | 611/700 [00:16<00:02, 40.33it/s]\u001b[A\n",
      " 88%|████████▊ | 616/700 [00:16<00:02, 40.28it/s]\u001b[A\n",
      " 89%|████████▊ | 621/700 [00:16<00:01, 40.06it/s]\u001b[A\n",
      " 89%|████████▉ | 626/700 [00:16<00:01, 40.23it/s]\u001b[A\n",
      " 90%|█████████ | 631/700 [00:16<00:01, 40.04it/s]\u001b[A\n",
      " 91%|█████████ | 636/700 [00:17<00:01, 39.58it/s]\u001b[A\n",
      " 91%|█████████▏| 640/700 [00:17<00:01, 39.48it/s]\u001b[A\n",
      " 92%|█████████▏| 644/700 [00:17<00:01, 39.52it/s]\u001b[A\n",
      " 93%|█████████▎| 648/700 [00:17<00:01, 39.34it/s]\u001b[A\n",
      " 93%|█████████▎| 652/700 [00:17<00:01, 39.53it/s]\u001b[A\n",
      " 94%|█████████▎| 656/700 [00:17<00:01, 39.21it/s]\u001b[A\n",
      " 94%|█████████▍| 660/700 [00:17<00:01, 38.36it/s]\u001b[A\n",
      " 95%|█████████▍| 664/700 [00:17<00:00, 37.91it/s]\u001b[A\n",
      " 96%|█████████▌| 669/700 [00:17<00:00, 38.83it/s]\u001b[A\n",
      " 96%|█████████▌| 673/700 [00:18<00:00, 38.70it/s]\u001b[A\n",
      " 97%|█████████▋| 677/700 [00:18<00:00, 38.70it/s]\u001b[A\n",
      " 97%|█████████▋| 681/700 [00:18<00:00, 37.44it/s]\u001b[A\n",
      " 98%|█████████▊| 685/700 [00:18<00:00, 37.94it/s]\u001b[A\n",
      " 98%|█████████▊| 689/700 [00:18<00:00, 38.23it/s]\u001b[A\n",
      " 99%|█████████▉| 693/700 [00:18<00:00, 38.46it/s]\u001b[A\n",
      "100%|██████████| 700/700 [00:18<00:00, 37.29it/s]\n",
      "\n",
      "  0%|          | 0/700 [00:00<?, ?it/s]\u001b[A\n",
      "  1%|          | 4/700 [00:00<00:20, 33.97it/s]\u001b[A\n",
      "  1%|          | 7/700 [00:00<00:22, 30.94it/s]\u001b[A\n",
      "  1%|▏         | 10/700 [00:00<00:23, 28.93it/s]\u001b[A\n",
      "  2%|▏         | 13/700 [00:00<00:24, 28.05it/s]\u001b[A\n",
      "  2%|▏         | 16/700 [00:00<00:24, 27.49it/s]\u001b[A\n",
      "  3%|▎         | 19/700 [00:00<00:25, 26.94it/s]\u001b[A\n",
      "  3%|▎         | 22/700 [00:00<00:25, 26.85it/s]\u001b[A\n",
      "  4%|▎         | 25/700 [00:00<00:25, 26.72it/s]\u001b[A\n",
      "  4%|▍         | 28/700 [00:01<00:25, 26.45it/s]\u001b[A\n",
      "  4%|▍         | 31/700 [00:01<00:25, 26.64it/s]\u001b[A\n",
      "  5%|▍         | 34/700 [00:01<00:24, 27.07it/s]\u001b[A\n",
      "  5%|▌         | 37/700 [00:01<00:24, 26.80it/s]\u001b[A\n",
      "  6%|▌         | 40/700 [00:01<00:24, 27.50it/s]\u001b[A\n",
      "  6%|▌         | 43/700 [00:01<00:23, 27.97it/s]\u001b[A\n",
      "  7%|▋         | 46/700 [00:01<00:23, 28.35it/s]\u001b[A\n",
      "  7%|▋         | 49/700 [00:01<00:22, 28.63it/s]\u001b[A\n",
      "  7%|▋         | 52/700 [00:01<00:22, 28.75it/s]\u001b[A\n",
      "  8%|▊         | 56/700 [00:02<00:21, 29.40it/s]\u001b[A\n",
      "  9%|▊         | 60/700 [00:02<00:21, 30.10it/s]\u001b[A\n",
      "  9%|▉         | 64/700 [00:02<00:20, 30.87it/s]\u001b[A\n",
      " 10%|▉         | 68/700 [00:02<00:20, 31.06it/s]\u001b[A\n",
      " 10%|█         | 72/700 [00:02<00:19, 31.99it/s]\u001b[A\n",
      " 11%|█         | 76/700 [00:02<00:19, 32.66it/s]\u001b[A\n",
      " 11%|█▏        | 80/700 [00:02<00:18, 33.04it/s]\u001b[A\n",
      " 12%|█▏        | 84/700 [00:02<00:18, 33.64it/s]\u001b[A\n",
      " 13%|█▎        | 88/700 [00:02<00:17, 34.31it/s]\u001b[A\n",
      " 13%|█▎        | 92/700 [00:03<00:17, 34.49it/s]\u001b[A\n",
      " 14%|█▎        | 96/700 [00:03<00:17, 35.23it/s]\u001b[A\n",
      " 14%|█▍        | 100/700 [00:03<00:16, 35.78it/s]\u001b[A\n",
      " 15%|█▍        | 104/700 [00:03<00:16, 35.83it/s]\u001b[A\n",
      " 15%|█▌        | 108/700 [00:03<00:16, 35.94it/s]\u001b[A\n",
      " 16%|█▌        | 112/700 [00:03<00:16, 36.31it/s]\u001b[A\n",
      " 17%|█▋        | 116/700 [00:03<00:16, 36.16it/s]\u001b[A\n",
      " 17%|█▋        | 120/700 [00:03<00:15, 36.40it/s]\u001b[A\n",
      " 18%|█▊        | 124/700 [00:03<00:16, 35.72it/s]\u001b[A\n",
      " 18%|█▊        | 128/700 [00:04<00:15, 35.96it/s]\u001b[A\n",
      " 19%|█▉        | 132/700 [00:04<00:15, 36.82it/s]\u001b[A\n",
      " 19%|█▉        | 136/700 [00:04<00:15, 36.81it/s]\u001b[A\n",
      " 20%|██        | 140/700 [00:04<00:15, 36.74it/s]\u001b[A\n",
      " 21%|██        | 144/700 [00:04<00:14, 37.34it/s]\u001b[A\n",
      " 21%|██        | 148/700 [00:04<00:14, 37.50it/s]\u001b[A\n",
      " 22%|██▏       | 152/700 [00:04<00:14, 37.78it/s]\u001b[A\n",
      " 22%|██▏       | 156/700 [00:04<00:14, 37.79it/s]\u001b[A\n",
      " 23%|██▎       | 160/700 [00:04<00:14, 37.78it/s]\u001b[A\n",
      " 23%|██▎       | 164/700 [00:05<00:14, 38.08it/s]\u001b[A\n",
      " 24%|██▍       | 168/700 [00:05<00:13, 38.62it/s]\u001b[A\n",
      " 25%|██▍       | 172/700 [00:05<00:13, 38.85it/s]\u001b[A\n",
      " 25%|██▌       | 176/700 [00:05<00:13, 39.15it/s]\u001b[A\n",
      " 26%|██▌       | 180/700 [00:05<00:13, 38.63it/s]\u001b[A\n",
      " 26%|██▋       | 184/700 [00:05<00:13, 38.84it/s]\u001b[A\n",
      " 27%|██▋       | 188/700 [00:05<00:13, 39.01it/s]\u001b[A\n",
      " 27%|██▋       | 192/700 [00:05<00:12, 39.10it/s]\u001b[A\n",
      " 28%|██▊       | 196/700 [00:05<00:12, 39.02it/s]\u001b[A\n",
      " 29%|██▊       | 200/700 [00:05<00:12, 39.06it/s]\u001b[A\n",
      " 29%|██▉       | 204/700 [00:06<00:12, 39.24it/s]\u001b[A\n",
      " 30%|██▉       | 208/700 [00:06<00:12, 39.40it/s]\u001b[A\n",
      " 30%|███       | 212/700 [00:06<00:12, 39.49it/s]\u001b[A\n",
      " 31%|███       | 216/700 [00:06<00:12, 39.34it/s]\u001b[A\n",
      " 31%|███▏      | 220/700 [00:06<00:12, 38.84it/s]\u001b[A\n",
      " 32%|███▏      | 224/700 [00:06<00:12, 39.18it/s]\u001b[A\n",
      " 33%|███▎      | 229/700 [00:06<00:11, 39.63it/s]\u001b[A\n",
      " 33%|███▎      | 233/700 [00:06<00:11, 39.48it/s]\u001b[A\n",
      " 34%|███▍      | 237/700 [00:06<00:11, 38.94it/s]\u001b[A\n",
      " 35%|███▍      | 242/700 [00:07<00:11, 39.52it/s]\u001b[A\n",
      " 35%|███▌      | 247/700 [00:07<00:11, 40.05it/s]\u001b[A\n",
      " 36%|███▌      | 252/700 [00:07<00:11, 40.00it/s]\u001b[A\n",
      " 37%|███▋      | 257/700 [00:07<00:11, 39.87it/s]\u001b[A\n",
      " 37%|███▋      | 262/700 [00:07<00:10, 40.13it/s]\u001b[A\n",
      " 38%|███▊      | 267/700 [00:07<00:10, 39.97it/s]\u001b[A\n",
      " 39%|███▊      | 271/700 [00:07<00:10, 39.75it/s]\u001b[A\n",
      " 39%|███▉      | 276/700 [00:07<00:10, 39.96it/s]\u001b[A\n",
      " 40%|████      | 281/700 [00:07<00:10, 40.10it/s]\u001b[A\n",
      " 41%|████      | 286/700 [00:08<00:10, 40.41it/s]\u001b[A\n",
      " 42%|████▏     | 291/700 [00:08<00:10, 40.71it/s]\u001b[A\n",
      " 42%|████▏     | 296/700 [00:08<00:09, 40.59it/s]\u001b[A\n",
      " 43%|████▎     | 301/700 [00:08<00:09, 40.32it/s]\u001b[A\n",
      " 44%|████▎     | 306/700 [00:08<00:09, 40.56it/s]\u001b[A\n",
      " 44%|████▍     | 311/700 [00:08<00:09, 40.59it/s]\u001b[A\n",
      " 45%|████▌     | 316/700 [00:08<00:09, 40.53it/s]\u001b[A\n",
      " 46%|████▌     | 321/700 [00:08<00:09, 40.71it/s]\u001b[A\n",
      " 47%|████▋     | 326/700 [00:09<00:09, 39.88it/s]\u001b[A\n",
      " 47%|████▋     | 331/700 [00:09<00:09, 40.25it/s]\u001b[A\n",
      " 48%|████▊     | 336/700 [00:09<00:08, 40.62it/s]\u001b[A\n",
      " 49%|████▊     | 341/700 [00:09<00:08, 40.17it/s]\u001b[A\n",
      " 49%|████▉     | 346/700 [00:09<00:08, 40.53it/s]\u001b[A\n",
      " 50%|█████     | 351/700 [00:09<00:08, 40.68it/s]\u001b[A\n",
      " 51%|█████     | 356/700 [00:09<00:08, 40.46it/s]\u001b[A\n",
      " 52%|█████▏    | 361/700 [00:09<00:08, 40.41it/s]\u001b[A\n",
      " 52%|█████▏    | 366/700 [00:10<00:08, 40.57it/s]\u001b[A\n",
      " 53%|█████▎    | 371/700 [00:10<00:08, 40.50it/s]\u001b[A\n",
      " 54%|█████▎    | 376/700 [00:10<00:07, 40.75it/s]\u001b[A\n",
      " 54%|█████▍    | 381/700 [00:10<00:07, 40.44it/s]\u001b[A\n",
      " 55%|█████▌    | 386/700 [00:10<00:07, 40.75it/s]\u001b[A\n",
      " 56%|█████▌    | 391/700 [00:10<00:07, 40.71it/s]\u001b[A\n",
      " 57%|█████▋    | 396/700 [00:10<00:07, 40.92it/s]\u001b[A\n",
      " 57%|█████▋    | 401/700 [00:10<00:07, 40.92it/s]\u001b[A\n",
      " 58%|█████▊    | 406/700 [00:11<00:07, 40.86it/s]\u001b[A\n",
      " 59%|█████▊    | 411/700 [00:11<00:07, 41.09it/s]\u001b[A\n",
      " 59%|█████▉    | 416/700 [00:11<00:06, 41.19it/s]\u001b[A\n",
      " 60%|██████    | 421/700 [00:11<00:06, 40.40it/s]\u001b[A\n",
      " 61%|██████    | 426/700 [00:11<00:06, 40.79it/s]\u001b[A\n",
      " 62%|██████▏   | 431/700 [00:11<00:06, 40.94it/s]\u001b[A\n",
      " 62%|██████▏   | 436/700 [00:11<00:06, 41.03it/s]\u001b[A\n",
      " 63%|██████▎   | 441/700 [00:11<00:06, 41.11it/s]\u001b[A\n",
      " 64%|██████▎   | 446/700 [00:12<00:06, 41.28it/s]\u001b[A\n",
      " 64%|██████▍   | 451/700 [00:12<00:06, 41.35it/s]\u001b[A\n",
      " 65%|██████▌   | 456/700 [00:12<00:05, 41.43it/s]\u001b[A\n",
      " 66%|██████▌   | 461/700 [00:12<00:05, 41.32it/s]\u001b[A\n",
      " 67%|██████▋   | 466/700 [00:12<00:05, 40.83it/s]\u001b[A\n",
      " 67%|██████▋   | 471/700 [00:12<00:05, 40.81it/s]\u001b[A\n",
      " 68%|██████▊   | 476/700 [00:12<00:05, 40.64it/s]\u001b[A\n",
      " 69%|██████▊   | 481/700 [00:12<00:05, 40.73it/s]\u001b[A\n",
      " 69%|██████▉   | 486/700 [00:13<00:05, 40.93it/s]\u001b[A\n",
      " 70%|███████   | 491/700 [00:13<00:05, 41.04it/s]\u001b[A\n",
      " 71%|███████   | 496/700 [00:13<00:04, 41.30it/s]\u001b[A\n",
      " 72%|███████▏  | 501/700 [00:13<00:04, 41.45it/s]\u001b[A\n",
      " 72%|███████▏  | 506/700 [00:13<00:04, 41.01it/s]\u001b[A\n",
      " 73%|███████▎  | 511/700 [00:13<00:04, 40.26it/s]\u001b[A\n",
      " 74%|███████▎  | 516/700 [00:13<00:04, 40.46it/s]\u001b[A\n",
      " 74%|███████▍  | 521/700 [00:13<00:04, 40.67it/s]\u001b[A\n",
      " 75%|███████▌  | 526/700 [00:13<00:04, 40.80it/s]\u001b[A\n",
      " 76%|███████▌  | 531/700 [00:14<00:04, 40.90it/s]\u001b[A\n",
      " 77%|███████▋  | 536/700 [00:14<00:03, 41.11it/s]\u001b[A\n",
      " 77%|███████▋  | 541/700 [00:14<00:03, 41.34it/s]\u001b[A\n",
      " 78%|███████▊  | 546/700 [00:14<00:03, 41.25it/s]\u001b[A\n",
      " 79%|███████▊  | 551/700 [00:14<00:03, 41.47it/s]\u001b[A\n",
      " 79%|███████▉  | 556/700 [00:14<00:03, 41.35it/s]\u001b[A\n",
      " 80%|████████  | 561/700 [00:14<00:03, 41.17it/s]\u001b[A\n",
      " 81%|████████  | 566/700 [00:14<00:03, 41.14it/s]\u001b[A\n",
      " 82%|████████▏ | 571/700 [00:15<00:03, 41.22it/s]\u001b[A\n",
      " 82%|████████▏ | 576/700 [00:15<00:02, 41.35it/s]\u001b[A\n",
      " 83%|████████▎ | 581/700 [00:15<00:02, 41.28it/s]\u001b[A\n",
      " 84%|████████▎ | 586/700 [00:15<00:02, 41.37it/s]\u001b[A\n",
      " 84%|████████▍ | 591/700 [00:15<00:02, 40.40it/s]\u001b[A\n",
      " 85%|████████▌ | 596/700 [00:15<00:02, 39.73it/s]\u001b[A\n",
      " 86%|████████▌ | 601/700 [00:15<00:02, 40.11it/s]\u001b[A\n",
      " 87%|████████▋ | 606/700 [00:15<00:02, 40.49it/s]\u001b[A\n",
      " 87%|████████▋ | 611/700 [00:16<00:02, 40.83it/s]\u001b[A\n",
      " 88%|████████▊ | 616/700 [00:16<00:02, 40.69it/s]\u001b[A\n",
      " 89%|████████▊ | 621/700 [00:16<00:01, 40.91it/s]\u001b[A\n",
      " 89%|████████▉ | 626/700 [00:16<00:01, 41.25it/s]\u001b[A\n",
      " 90%|█████████ | 631/700 [00:16<00:01, 40.93it/s]\u001b[A\n",
      " 91%|█████████ | 636/700 [00:16<00:01, 40.61it/s]\u001b[A\n",
      " 92%|█████████▏| 641/700 [00:16<00:01, 40.62it/s]\u001b[A\n",
      " 92%|█████████▏| 646/700 [00:16<00:01, 40.77it/s]\u001b[A\n",
      " 93%|█████████▎| 651/700 [00:17<00:01, 41.02it/s]\u001b[A\n",
      " 94%|█████████▎| 656/700 [00:17<00:01, 40.98it/s]\u001b[A\n",
      " 94%|█████████▍| 661/700 [00:17<00:00, 41.20it/s]\u001b[A\n",
      " 95%|█████████▌| 666/700 [00:17<00:00, 41.34it/s]\u001b[A\n",
      " 96%|█████████▌| 671/700 [00:17<00:00, 40.47it/s]\u001b[A\n",
      " 97%|█████████▋| 676/700 [00:17<00:00, 40.63it/s]\u001b[A\n",
      " 97%|█████████▋| 681/700 [00:17<00:00, 40.72it/s]\u001b[A\n",
      " 98%|█████████▊| 686/700 [00:17<00:00, 40.68it/s]\u001b[A\n",
      " 99%|█████████▊| 691/700 [00:18<00:00, 40.60it/s]\u001b[A\n",
      "100%|██████████| 700/700 [00:18<00:00, 38.39it/s]\n"
     ]
    }
   ],
   "source": [
    "# инвертированный граф\n",
    "\n",
    "sir_model = sir.SIRModel(invert_graph)\n",
    "\n",
    "\n",
    "config = mc.Configuration()\n",
    "config.add_model_parameter('beta', 0.005)\n",
    "config.add_model_parameter('gamma',0.007)\n",
    "config.add_model_parameter(\"percentage_infected\", 0.05)\n",
    "sir_model.set_initial_status(config)\n",
    "\n",
    "iterations = sir_model.iteration_bunch(700)\n",
    "susceptible1,infected1,recovered1 = [],[],[]\n",
    " \n",
    "for iteration in iterations:\n",
    "    node_count = iteration['node_count']\n",
    "    susceptible1.append(node_count[0]/N)\n",
    "    infected1.append(node_count[1]/N)\n",
    "    recovered1.append(node_count[2]/N)\n",
    "\n",
    "\n",
    "# рандомизированный инвертированный граф\n",
    "\n",
    "sir_model = sir.SIRModel(rand_invert_graph)\n",
    "\n",
    "\n",
    "config = mc.Configuration()\n",
    "config.add_model_parameter('beta', 0.005)\n",
    "config.add_model_parameter('gamma',0.007)\n",
    "config.add_model_parameter(\"percentage_infected\", 0.05)\n",
    "sir_model.set_initial_status(config)\n",
    "\n",
    "iterations = sir_model.iteration_bunch(700)\n",
    "susceptible2,infected2,recovered2 = [],[],[]\n",
    " \n",
    "for iteration in iterations:\n",
    "    node_count = iteration['node_count']\n",
    "    susceptible2.append(node_count[0]/N)\n",
    "    infected2.append(node_count[1]/N)\n",
    "    recovered2.append(node_count[2]/N)"
   ]
  },
  {
   "cell_type": "code",
   "execution_count": null,
   "metadata": {
    "colab": {
     "base_uri": "https://localhost:8080/",
     "height": 581
    },
    "colab_type": "code",
    "id": "BbAaTEtAwf-c",
    "outputId": "f878d5ab-b010-4a8e-fb0a-cc037ab97e18"
   },
   "outputs": [
    {
     "data": {
      "image/png": "[encoded data removed]",
      "text/plain": [
       "<Figure size 432x288 with 1 Axes>"
      ]
     },
     "metadata": {
      "needs_background": "light",
      "tags": []
     },
     "output_type": "display_data"
    },
    {
     "data": {
      "image/png": "[encoded data removed]",
      "text/plain": [
       "<Figure size 432x288 with 1 Axes>"
      ]
     },
     "metadata": {
      "needs_background": "light",
      "tags": []
     },
     "output_type": "display_data"
    }
   ],
   "source": [
    "plt.figure(figsize = (6,4))\n",
    "plt.title('SIR for inverted net')\n",
    "plt.plot(infected1,color='r',label='infected')\n",
    "plt.plot(susceptible1, color='b',label='susceptible')\n",
    "plt.plot(recovered1, color='k',label='recovered')\n",
    "plt.xlabel('time', fontsize = 14)\n",
    "plt.ylabel('node/N', fontsize = 14)\n",
    "plt.legend()\n",
    "plt.show()\n",
    "\n",
    "\n",
    "plt.figure(figsize = (6,4))\n",
    "plt.title('SIR for randomized inverted net')\n",
    "plt.plot(infected2,color='r',label='infected')\n",
    "plt.plot(susceptible2, color='b',label='susceptible')\n",
    "plt.plot(recovered2, color='k',label='recovered')\n",
    "plt.xlabel('time', fontsize = 14)\n",
    "plt.ylabel('node/N', fontsize = 14)\n",
    "plt.legend()\n",
    "plt.show()"
   ]
  },
  {
   "cell_type": "code",
   "execution_count": null,
   "metadata": {
    "colab": {},
    "colab_type": "code",
    "id": "prhqq2bWi45b"
   },
   "outputs": [],
   "source": []
  },
  {
   "cell_type": "code",
   "execution_count": null,
   "metadata": {
    "colab": {},
    "colab_type": "code",
    "id": "MKOlhwyOf26e"
   },
   "outputs": [],
   "source": [
    "# транзитивность для неинвертирвоанного\n",
    "\n",
    "rand_edges_init = xswap.permute_edge_list(list(graph.edges), allow_self_loops=False, allow_antiparallel=False)\n",
    "rand_graph_init = nx.from_edgelist(rand_edges_init[0], create_using=nx.DiGraph())"
   ]
  },
  {
   "cell_type": "code",
   "execution_count": null,
   "metadata": {
    "colab": {
     "base_uri": "https://localhost:8080/",
     "height": 34
    },
    "colab_type": "code",
    "id": "Mpoij5pkifVE",
    "outputId": "6c02a462-6751-48d0-f377-7c54ef750539"
   },
   "outputs": [
    {
     "data": {
      "text/plain": [
       "0.00990038183811576"
      ]
     },
     "execution_count": 49,
     "metadata": {
      "tags": []
     },
     "output_type": "execute_result"
    }
   ],
   "source": [
    "nx.transitivity(rand_graph_init)"
   ]
  },
  {
   "cell_type": "code",
   "execution_count": null,
   "metadata": {
    "colab": {
     "base_uri": "https://localhost:8080/",
     "height": 34
    },
    "colab_type": "code",
    "id": "CQmmUOgJijcb",
    "outputId": "f50da912-e41b-422d-98f0-2a390727f7b4"
   },
   "outputs": [
    {
     "name": "stdout",
     "output_type": "stream",
     "text": [
      "Delta: -0.11297311374641154\n"
     ]
    }
   ],
   "source": [
    "print('Delta:', nx.transitivity(rand_graph_init) - nx.transitivity(graph))"
   ]
  },
  {
   "cell_type": "code",
   "execution_count": null,
   "metadata": {
    "colab": {
     "base_uri": "https://localhost:8080/",
     "height": 1000
    },
    "colab_type": "code",
    "id": "Dl6LG7RHw8pC",
    "outputId": "de895fcf-a30d-4ab5-d35c-c61f8a8c2834"
   },
   "outputs": [
    {
     "name": "stderr",
     "output_type": "stream",
     "text": [
      "\n",
      "  0%|          | 0/700 [00:00<?, ?it/s]\u001b[A\n",
      "  1%|          | 4/700 [00:00<00:19, 35.52it/s]\u001b[A\n",
      "  1%|          | 7/700 [00:00<00:21, 32.50it/s]\u001b[A\n",
      "  1%|▏         | 10/700 [00:00<00:22, 30.99it/s]\u001b[A\n",
      "  2%|▏         | 13/700 [00:00<00:23, 29.47it/s]\u001b[A\n",
      "  2%|▏         | 16/700 [00:00<00:23, 29.26it/s]\u001b[A\n",
      "  3%|▎         | 19/700 [00:00<00:23, 29.18it/s]\u001b[A\n",
      "  3%|▎         | 22/700 [00:00<00:23, 29.17it/s]\u001b[A\n",
      "  4%|▎         | 25/700 [00:00<00:23, 29.20it/s]\u001b[A\n",
      "  4%|▍         | 28/700 [00:00<00:22, 29.33it/s]\u001b[A\n",
      "  4%|▍         | 31/700 [00:01<00:22, 29.29it/s]\u001b[A\n",
      "  5%|▌         | 35/700 [00:01<00:22, 29.55it/s]\u001b[A\n",
      "  5%|▌         | 38/700 [00:01<00:22, 29.01it/s]\u001b[A\n",
      "  6%|▌         | 41/700 [00:01<00:22, 29.06it/s]\u001b[A\n",
      "  6%|▋         | 45/700 [00:01<00:22, 29.73it/s]\u001b[A\n",
      "  7%|▋         | 49/700 [00:01<00:21, 30.14it/s]\u001b[A\n",
      "  8%|▊         | 53/700 [00:01<00:20, 30.90it/s]\u001b[A\n",
      "  8%|▊         | 57/700 [00:01<00:20, 31.49it/s]\u001b[A\n",
      "  9%|▊         | 61/700 [00:02<00:20, 31.70it/s]\u001b[A\n",
      "  9%|▉         | 65/700 [00:02<00:19, 32.09it/s]\u001b[A\n",
      " 10%|▉         | 69/700 [00:02<00:19, 32.45it/s]\u001b[A\n",
      " 10%|█         | 73/700 [00:02<00:19, 32.22it/s]\u001b[A\n",
      " 11%|█         | 77/700 [00:02<00:19, 32.54it/s]\u001b[A\n",
      " 12%|█▏        | 81/700 [00:02<00:18, 33.10it/s]\u001b[A\n",
      " 12%|█▏        | 85/700 [00:02<00:18, 33.46it/s]\u001b[A\n",
      " 13%|█▎        | 89/700 [00:02<00:18, 33.72it/s]\u001b[A\n",
      " 13%|█▎        | 93/700 [00:02<00:17, 34.07it/s]\u001b[A\n",
      " 14%|█▍        | 97/700 [00:03<00:17, 34.46it/s]\u001b[A\n",
      " 14%|█▍        | 101/700 [00:03<00:17, 34.60it/s]\u001b[A\n",
      " 15%|█▌        | 105/700 [00:03<00:17, 34.71it/s]\u001b[A\n",
      " 16%|█▌        | 109/700 [00:03<00:17, 34.65it/s]\u001b[A\n",
      " 16%|█▌        | 113/700 [00:03<00:16, 34.84it/s]\u001b[A\n",
      " 17%|█▋        | 117/700 [00:03<00:16, 34.61it/s]\u001b[A\n",
      " 17%|█▋        | 121/700 [00:03<00:16, 35.06it/s]\u001b[A\n",
      " 18%|█▊        | 125/700 [00:03<00:16, 35.35it/s]\u001b[A\n",
      " 18%|█▊        | 129/700 [00:04<00:16, 35.53it/s]\u001b[A\n",
      " 19%|█▉        | 133/700 [00:04<00:15, 35.68it/s]\u001b[A\n",
      " 20%|█▉        | 137/700 [00:04<00:15, 36.09it/s]\u001b[A\n",
      " 20%|██        | 141/700 [00:04<00:15, 36.44it/s]\u001b[A\n",
      " 21%|██        | 145/700 [00:04<00:15, 36.06it/s]\u001b[A\n",
      " 21%|██▏       | 149/700 [00:04<00:15, 36.05it/s]\u001b[A\n",
      " 22%|██▏       | 153/700 [00:04<00:15, 36.08it/s]\u001b[A\n",
      " 22%|██▏       | 157/700 [00:04<00:14, 36.59it/s]\u001b[A\n",
      " 23%|██▎       | 161/700 [00:04<00:14, 36.64it/s]\u001b[A\n",
      " 24%|██▎       | 165/700 [00:04<00:14, 36.67it/s]\u001b[A\n",
      " 24%|██▍       | 169/700 [00:05<00:14, 36.97it/s]\u001b[A\n",
      " 25%|██▍       | 173/700 [00:05<00:14, 37.12it/s]\u001b[A\n",
      " 25%|██▌       | 177/700 [00:05<00:14, 37.07it/s]\u001b[A\n",
      " 26%|██▌       | 181/700 [00:05<00:14, 36.73it/s]\u001b[A\n",
      " 26%|██▋       | 185/700 [00:05<00:13, 37.07it/s]\u001b[A\n",
      " 27%|██▋       | 189/700 [00:05<00:13, 37.21it/s]\u001b[A\n",
      " 28%|██▊       | 193/700 [00:05<00:13, 37.10it/s]\u001b[A\n",
      " 28%|██▊       | 197/700 [00:05<00:13, 37.46it/s]\u001b[A\n",
      " 29%|██▊       | 201/700 [00:05<00:13, 37.77it/s]\u001b[A\n",
      " 29%|██▉       | 205/700 [00:06<00:13, 37.32it/s]\u001b[A\n",
      " 30%|██▉       | 209/700 [00:06<00:13, 36.37it/s]\u001b[A\n",
      " 30%|███       | 213/700 [00:06<00:13, 36.07it/s]\u001b[A\n",
      " 31%|███       | 217/700 [00:06<00:13, 36.66it/s]\u001b[A\n",
      " 32%|███▏      | 221/700 [00:06<00:13, 36.60it/s]\u001b[A\n",
      " 32%|███▏      | 225/700 [00:06<00:13, 35.54it/s]\u001b[A\n",
      " 33%|███▎      | 229/700 [00:06<00:12, 36.49it/s]\u001b[A\n",
      " 33%|███▎      | 233/700 [00:06<00:12, 36.53it/s]\u001b[A\n",
      " 34%|███▍      | 237/700 [00:06<00:12, 37.14it/s]\u001b[A\n",
      " 34%|███▍      | 241/700 [00:07<00:12, 37.46it/s]\u001b[A\n",
      " 35%|███▌      | 245/700 [00:07<00:12, 37.42it/s]\u001b[A\n",
      " 36%|███▌      | 249/700 [00:07<00:12, 37.58it/s]\u001b[A\n",
      " 36%|███▌      | 253/700 [00:07<00:11, 37.81it/s]\u001b[A\n",
      " 37%|███▋      | 257/700 [00:07<00:11, 37.41it/s]\u001b[A\n",
      " 37%|███▋      | 261/700 [00:07<00:11, 37.43it/s]\u001b[A\n",
      " 38%|███▊      | 265/700 [00:07<00:11, 37.70it/s]\u001b[A\n",
      " 38%|███▊      | 269/700 [00:07<00:11, 37.87it/s]\u001b[A\n",
      " 39%|███▉      | 273/700 [00:07<00:11, 38.24it/s]\u001b[A\n",
      " 40%|███▉      | 277/700 [00:07<00:11, 38.32it/s]\u001b[A\n",
      " 40%|████      | 281/700 [00:08<00:11, 37.16it/s]\u001b[A\n",
      " 41%|████      | 285/700 [00:08<00:11, 37.51it/s]\u001b[A\n",
      " 41%|████▏     | 289/700 [00:08<00:10, 38.15it/s]\u001b[A\n",
      " 42%|████▏     | 293/700 [00:08<00:10, 38.00it/s]\u001b[A\n",
      " 42%|████▏     | 297/700 [00:08<00:10, 37.73it/s]\u001b[A\n",
      " 43%|████▎     | 301/700 [00:08<00:10, 38.22it/s]\u001b[A\n",
      " 44%|████▎     | 305/700 [00:08<00:10, 38.30it/s]\u001b[A\n",
      " 44%|████▍     | 309/700 [00:08<00:10, 38.34it/s]\u001b[A\n",
      " 45%|████▍     | 313/700 [00:08<00:10, 38.28it/s]\u001b[A\n",
      " 45%|████▌     | 317/700 [00:09<00:09, 38.49it/s]\u001b[A\n",
      " 46%|████▌     | 321/700 [00:09<00:09, 38.52it/s]\u001b[A\n",
      " 46%|████▋     | 325/700 [00:09<00:09, 38.61it/s]\u001b[A\n",
      " 47%|████▋     | 329/700 [00:09<00:09, 38.49it/s]\u001b[A\n",
      " 48%|████▊     | 333/700 [00:09<00:09, 38.36it/s]\u001b[A\n",
      " 48%|████▊     | 337/700 [00:09<00:09, 37.77it/s]\u001b[A\n",
      " 49%|████▊     | 341/700 [00:09<00:09, 38.12it/s]\u001b[A\n",
      " 49%|████▉     | 345/700 [00:09<00:09, 38.37it/s]\u001b[A\n",
      " 50%|████▉     | 349/700 [00:09<00:09, 38.39it/s]\u001b[A\n",
      " 50%|█████     | 353/700 [00:09<00:09, 38.48it/s]\u001b[A\n",
      " 51%|█████     | 357/700 [00:10<00:08, 38.30it/s]\u001b[A\n",
      " 52%|█████▏    | 361/700 [00:10<00:08, 38.09it/s]\u001b[A\n",
      " 52%|█████▏    | 365/700 [00:10<00:08, 38.21it/s]\u001b[A\n",
      " 53%|█████▎    | 369/700 [00:10<00:08, 38.64it/s]\u001b[A\n",
      " 53%|█████▎    | 373/700 [00:10<00:08, 38.50it/s]\u001b[A\n",
      " 54%|█████▍    | 377/700 [00:10<00:08, 38.37it/s]\u001b[A\n",
      " 54%|█████▍    | 381/700 [00:10<00:08, 38.37it/s]\u001b[A\n",
      " 55%|█████▌    | 385/700 [00:10<00:08, 38.68it/s]\u001b[A\n",
      " 56%|█████▌    | 389/700 [00:10<00:07, 38.90it/s]\u001b[A\n",
      " 56%|█████▌    | 393/700 [00:11<00:07, 38.49it/s]\u001b[A\n",
      " 57%|█████▋    | 397/700 [00:11<00:07, 38.87it/s]\u001b[A\n",
      " 57%|█████▋    | 401/700 [00:11<00:07, 38.86it/s]\u001b[A\n",
      " 58%|█████▊    | 405/700 [00:11<00:07, 38.90it/s]\u001b[A\n",
      " 58%|█████▊    | 409/700 [00:11<00:07, 38.69it/s]\u001b[A\n",
      " 59%|█████▉    | 413/700 [00:11<00:07, 38.36it/s]\u001b[A\n",
      " 60%|█████▉    | 417/700 [00:11<00:07, 38.43it/s]\u001b[A\n",
      " 60%|██████    | 422/700 [00:11<00:07, 39.03it/s]\u001b[A\n",
      " 61%|██████    | 426/700 [00:11<00:07, 38.98it/s]\u001b[A\n",
      " 61%|██████▏   | 430/700 [00:11<00:06, 38.86it/s]\u001b[A\n",
      " 62%|██████▏   | 434/700 [00:12<00:06, 38.92it/s]\u001b[A\n",
      " 63%|██████▎   | 438/700 [00:12<00:06, 39.03it/s]\u001b[A\n",
      " 63%|██████▎   | 442/700 [00:12<00:06, 38.78it/s]\u001b[A\n",
      " 64%|██████▎   | 446/700 [00:12<00:06, 38.68it/s]\u001b[A\n",
      " 64%|██████▍   | 451/700 [00:12<00:06, 39.32it/s]\u001b[A\n",
      " 65%|██████▌   | 455/700 [00:12<00:06, 39.05it/s]\u001b[A\n",
      " 66%|██████▌   | 459/700 [00:12<00:06, 38.69it/s]\u001b[A\n",
      " 66%|██████▋   | 464/700 [00:12<00:06, 39.23it/s]\u001b[A\n",
      " 67%|██████▋   | 468/700 [00:12<00:05, 39.26it/s]\u001b[A\n",
      " 67%|██████▋   | 472/700 [00:13<00:05, 39.25it/s]\u001b[A\n",
      " 68%|██████▊   | 476/700 [00:13<00:05, 38.98it/s]\u001b[A\n",
      " 69%|██████▊   | 480/700 [00:13<00:05, 39.24it/s]\u001b[A\n",
      " 69%|██████▉   | 484/700 [00:13<00:05, 39.39it/s]\u001b[A\n",
      " 70%|██████▉   | 488/700 [00:13<00:05, 39.49it/s]\u001b[A\n",
      " 70%|███████   | 492/700 [00:13<00:05, 39.12it/s]\u001b[A\n",
      " 71%|███████   | 496/700 [00:13<00:05, 38.94it/s]\u001b[A\n",
      " 71%|███████▏  | 500/700 [00:13<00:05, 38.84it/s]\u001b[A\n",
      " 72%|███████▏  | 504/700 [00:13<00:05, 38.94it/s]\u001b[A\n",
      " 73%|███████▎  | 508/700 [00:13<00:04, 39.17it/s]\u001b[A\n",
      " 73%|███████▎  | 512/700 [00:14<00:04, 38.90it/s]\u001b[A\n",
      " 74%|███████▎  | 516/700 [00:14<00:04, 38.17it/s]\u001b[A\n",
      " 74%|███████▍  | 520/700 [00:14<00:04, 38.30it/s]\u001b[A\n",
      " 75%|███████▌  | 525/700 [00:14<00:04, 39.06it/s]\u001b[A\n",
      " 76%|███████▌  | 529/700 [00:14<00:04, 39.02it/s]\u001b[A\n",
      " 76%|███████▌  | 533/700 [00:14<00:04, 38.53it/s]\u001b[A\n",
      " 77%|███████▋  | 537/700 [00:14<00:04, 38.86it/s]\u001b[A\n",
      " 77%|███████▋  | 541/700 [00:14<00:04, 39.18it/s]\u001b[A\n",
      " 78%|███████▊  | 545/700 [00:14<00:03, 39.31it/s]\u001b[A\n",
      " 78%|███████▊  | 549/700 [00:15<00:03, 39.50it/s]\u001b[A\n",
      " 79%|███████▉  | 553/700 [00:15<00:03, 39.44it/s]\u001b[A\n",
      " 80%|███████▉  | 557/700 [00:15<00:03, 39.24it/s]\u001b[A\n",
      " 80%|████████  | 561/700 [00:15<00:03, 39.31it/s]\u001b[A\n",
      " 81%|████████  | 565/700 [00:15<00:03, 39.31it/s]\u001b[A\n",
      " 81%|████████▏ | 569/700 [00:15<00:03, 39.35it/s]\u001b[A\n",
      " 82%|████████▏ | 573/700 [00:15<00:03, 38.72it/s]\u001b[A\n",
      " 82%|████████▏ | 577/700 [00:15<00:03, 38.91it/s]\u001b[A\n",
      " 83%|████████▎ | 581/700 [00:15<00:03, 39.14it/s]\u001b[A\n",
      " 84%|████████▎ | 585/700 [00:15<00:02, 39.30it/s]\u001b[A\n",
      " 84%|████████▍ | 589/700 [00:16<00:02, 38.95it/s]\u001b[A\n",
      " 85%|████████▍ | 594/700 [00:16<00:02, 39.56it/s]\u001b[A\n",
      " 85%|████████▌ | 598/700 [00:16<00:02, 39.57it/s]\u001b[A\n",
      " 86%|████████▌ | 603/700 [00:16<00:02, 39.87it/s]\u001b[A\n",
      " 87%|████████▋ | 607/700 [00:16<00:02, 39.77it/s]\u001b[A\n",
      " 87%|████████▋ | 611/700 [00:16<00:02, 39.28it/s]\u001b[A\n",
      " 88%|████████▊ | 615/700 [00:16<00:02, 39.47it/s]\u001b[A\n",
      " 88%|████████▊ | 619/700 [00:16<00:02, 39.30it/s]\u001b[A\n",
      " 89%|████████▉ | 623/700 [00:16<00:01, 39.39it/s]\u001b[A\n",
      " 90%|████████▉ | 627/700 [00:17<00:01, 38.29it/s]\u001b[A\n",
      " 90%|█████████ | 631/700 [00:17<00:01, 38.67it/s]\u001b[A\n",
      " 91%|█████████ | 635/700 [00:17<00:01, 38.70it/s]\u001b[A\n",
      " 91%|█████████▏| 640/700 [00:17<00:01, 39.28it/s]\u001b[A\n",
      " 92%|█████████▏| 644/700 [00:17<00:01, 39.25it/s]\u001b[A\n",
      " 93%|█████████▎| 648/700 [00:17<00:01, 39.01it/s]\u001b[A\n",
      " 93%|█████████▎| 652/700 [00:17<00:01, 38.35it/s]\u001b[A\n",
      " 94%|█████████▎| 656/700 [00:17<00:01, 38.64it/s]\u001b[A\n",
      " 94%|█████████▍| 660/700 [00:17<00:01, 38.90it/s]\u001b[A\n",
      " 95%|█████████▍| 664/700 [00:17<00:00, 39.13it/s]\u001b[A\n",
      " 95%|█████████▌| 668/700 [00:18<00:00, 38.87it/s]\u001b[A\n",
      " 96%|█████████▌| 672/700 [00:18<00:00, 38.90it/s]\u001b[A\n",
      " 97%|█████████▋| 676/700 [00:18<00:00, 38.80it/s]\u001b[A\n",
      " 97%|█████████▋| 680/700 [00:18<00:00, 38.75it/s]\u001b[A\n",
      " 98%|█████████▊| 684/700 [00:18<00:00, 37.92it/s]\u001b[A\n",
      " 98%|█████████▊| 689/700 [00:18<00:00, 38.24it/s]\u001b[A\n",
      " 99%|█████████▉| 693/700 [00:18<00:00, 38.55it/s]\u001b[A\n",
      "100%|██████████| 700/700 [00:18<00:00, 37.06it/s]\n",
      "\n",
      "  0%|          | 0/700 [00:00<?, ?it/s]\u001b[A\n",
      "  1%|          | 4/700 [00:00<00:19, 35.33it/s]\u001b[A\n",
      "  1%|          | 7/700 [00:00<00:21, 32.32it/s]\u001b[A\n",
      "  1%|▏         | 10/700 [00:00<00:22, 30.57it/s]\u001b[A\n",
      "  2%|▏         | 13/700 [00:00<00:23, 29.51it/s]\u001b[A\n",
      "  2%|▏         | 16/700 [00:00<00:23, 28.89it/s]\u001b[A\n",
      "  3%|▎         | 19/700 [00:00<00:23, 28.78it/s]\u001b[A\n",
      "  3%|▎         | 22/700 [00:00<00:24, 28.18it/s]\u001b[A\n",
      "  4%|▎         | 25/700 [00:00<00:23, 28.14it/s]\u001b[A\n",
      "  4%|▍         | 28/700 [00:00<00:23, 28.47it/s]\u001b[A\n",
      "  4%|▍         | 31/700 [00:01<00:23, 28.69it/s]\u001b[A\n",
      "  5%|▍         | 34/700 [00:01<00:23, 28.95it/s]\u001b[A\n",
      "  5%|▌         | 37/700 [00:01<00:22, 29.22it/s]\u001b[A\n",
      "  6%|▌         | 40/700 [00:01<00:22, 29.27it/s]\u001b[A\n",
      "  6%|▋         | 44/700 [00:01<00:22, 29.73it/s]\u001b[A\n",
      "  7%|▋         | 48/700 [00:01<00:21, 30.44it/s]\u001b[A\n",
      "  7%|▋         | 52/700 [00:01<00:21, 30.45it/s]\u001b[A\n",
      "  8%|▊         | 56/700 [00:01<00:21, 29.82it/s]\u001b[A\n",
      "  9%|▊         | 60/700 [00:02<00:20, 30.48it/s]\u001b[A\n",
      "  9%|▉         | 64/700 [00:02<00:20, 30.93it/s]\u001b[A\n",
      " 10%|▉         | 68/700 [00:02<00:20, 31.44it/s]\u001b[A\n",
      " 10%|█         | 72/700 [00:02<00:19, 31.78it/s]\u001b[A\n",
      " 11%|█         | 76/700 [00:02<00:19, 32.00it/s]\u001b[A\n",
      " 11%|█▏        | 80/700 [00:02<00:19, 32.62it/s]\u001b[A\n",
      " 12%|█▏        | 84/700 [00:02<00:19, 32.39it/s]\u001b[A\n",
      " 13%|█▎        | 88/700 [00:02<00:19, 32.10it/s]\u001b[A\n",
      " 13%|█▎        | 92/700 [00:03<00:18, 32.70it/s]\u001b[A\n",
      " 14%|█▎        | 96/700 [00:03<00:18, 33.19it/s]\u001b[A\n",
      " 14%|█▍        | 100/700 [00:03<00:18, 33.17it/s]\u001b[A\n",
      " 15%|█▍        | 104/700 [00:03<00:17, 33.29it/s]\u001b[A\n",
      " 15%|█▌        | 108/700 [00:03<00:17, 33.66it/s]\u001b[A\n",
      " 16%|█▌        | 112/700 [00:03<00:17, 34.23it/s]\u001b[A\n",
      " 17%|█▋        | 116/700 [00:03<00:16, 34.64it/s]\u001b[A\n",
      " 17%|█▋        | 120/700 [00:03<00:16, 34.44it/s]\u001b[A\n",
      " 18%|█▊        | 124/700 [00:03<00:16, 35.01it/s]\u001b[A\n",
      " 18%|█▊        | 128/700 [00:04<00:16, 35.32it/s]\u001b[A\n",
      " 19%|█▉        | 132/700 [00:04<00:16, 35.46it/s]\u001b[A\n",
      " 19%|█▉        | 136/700 [00:04<00:15, 35.59it/s]\u001b[A\n",
      " 20%|██        | 140/700 [00:04<00:15, 35.60it/s]\u001b[A\n",
      " 21%|██        | 144/700 [00:04<00:15, 35.98it/s]\u001b[A\n",
      " 21%|██        | 148/700 [00:04<00:15, 36.52it/s]\u001b[A\n",
      " 22%|██▏       | 152/700 [00:04<00:14, 36.74it/s]\u001b[A\n",
      " 22%|██▏       | 156/700 [00:04<00:15, 36.05it/s]\u001b[A\n",
      " 23%|██▎       | 160/700 [00:04<00:14, 36.54it/s]\u001b[A\n",
      " 23%|██▎       | 164/700 [00:05<00:14, 36.84it/s]\u001b[A\n",
      " 24%|██▍       | 168/700 [00:05<00:14, 36.92it/s]\u001b[A\n",
      " 25%|██▍       | 172/700 [00:05<00:14, 37.12it/s]\u001b[A\n",
      " 25%|██▌       | 176/700 [00:05<00:14, 36.94it/s]\u001b[A\n",
      " 26%|██▌       | 180/700 [00:05<00:13, 37.20it/s]\u001b[A\n",
      " 26%|██▋       | 184/700 [00:05<00:13, 37.53it/s]\u001b[A\n",
      " 27%|██▋       | 188/700 [00:05<00:13, 37.73it/s]\u001b[A\n",
      " 27%|██▋       | 192/700 [00:05<00:13, 37.12it/s]\u001b[A\n",
      " 28%|██▊       | 196/700 [00:05<00:13, 37.42it/s]\u001b[A\n",
      " 29%|██▊       | 200/700 [00:05<00:13, 37.60it/s]\u001b[A\n",
      " 29%|██▉       | 204/700 [00:06<00:13, 37.55it/s]\u001b[A\n",
      " 30%|██▉       | 208/700 [00:06<00:13, 37.53it/s]\u001b[A\n",
      " 30%|███       | 212/700 [00:06<00:13, 37.35it/s]\u001b[A\n",
      " 31%|███       | 216/700 [00:06<00:12, 37.55it/s]\u001b[A\n",
      " 31%|███▏      | 220/700 [00:06<00:12, 37.37it/s]\u001b[A\n",
      " 32%|███▏      | 224/700 [00:06<00:12, 37.21it/s]\u001b[A\n",
      " 33%|███▎      | 228/700 [00:06<00:12, 37.54it/s]\u001b[A\n",
      " 33%|███▎      | 232/700 [00:06<00:12, 37.15it/s]\u001b[A\n",
      " 34%|███▎      | 236/700 [00:06<00:12, 37.33it/s]\u001b[A\n",
      " 34%|███▍      | 240/700 [00:07<00:12, 37.48it/s]\u001b[A\n",
      " 35%|███▍      | 244/700 [00:07<00:12, 37.77it/s]\u001b[A\n",
      " 35%|███▌      | 248/700 [00:07<00:12, 37.62it/s]\u001b[A\n",
      " 36%|███▌      | 252/700 [00:07<00:11, 37.66it/s]\u001b[A\n",
      " 37%|███▋      | 256/700 [00:07<00:11, 38.03it/s]\u001b[A\n",
      " 37%|███▋      | 260/700 [00:07<00:11, 38.17it/s]\u001b[A\n",
      " 38%|███▊      | 264/700 [00:07<00:11, 38.16it/s]\u001b[A\n",
      " 38%|███▊      | 268/700 [00:07<00:11, 37.79it/s]\u001b[A\n",
      " 39%|███▉      | 272/700 [00:07<00:11, 38.26it/s]\u001b[A\n",
      " 39%|███▉      | 276/700 [00:08<00:11, 38.34it/s]\u001b[A\n",
      " 40%|████      | 280/700 [00:08<00:10, 38.29it/s]\u001b[A\n",
      " 41%|████      | 284/700 [00:08<00:10, 38.46it/s]\u001b[A\n",
      " 41%|████      | 288/700 [00:08<00:10, 38.45it/s]\u001b[A\n",
      " 42%|████▏     | 292/700 [00:08<00:10, 38.16it/s]\u001b[A\n",
      " 42%|████▏     | 296/700 [00:08<00:10, 38.26it/s]\u001b[A\n",
      " 43%|████▎     | 300/700 [00:08<00:10, 38.23it/s]\u001b[A\n",
      " 43%|████▎     | 304/700 [00:08<00:10, 38.31it/s]\u001b[A\n",
      " 44%|████▍     | 308/700 [00:08<00:10, 37.94it/s]\u001b[A\n",
      " 45%|████▍     | 312/700 [00:08<00:10, 38.12it/s]\u001b[A\n",
      " 45%|████▌     | 316/700 [00:09<00:10, 38.12it/s]\u001b[A\n",
      " 46%|████▌     | 320/700 [00:09<00:09, 38.19it/s]\u001b[A\n",
      " 46%|████▋     | 324/700 [00:09<00:09, 38.34it/s]\u001b[A\n",
      " 47%|████▋     | 328/700 [00:09<00:09, 38.30it/s]\u001b[A\n",
      " 47%|████▋     | 332/700 [00:09<00:09, 37.38it/s]\u001b[A\n",
      " 48%|████▊     | 336/700 [00:09<00:09, 37.94it/s]\u001b[A\n",
      " 49%|████▊     | 340/700 [00:09<00:09, 38.37it/s]\u001b[A\n",
      " 49%|████▉     | 344/700 [00:09<00:09, 38.38it/s]\u001b[A\n",
      " 50%|████▉     | 348/700 [00:09<00:09, 37.92it/s]\u001b[A\n",
      " 50%|█████     | 352/700 [00:10<00:09, 38.39it/s]\u001b[A\n",
      " 51%|█████     | 356/700 [00:10<00:08, 38.64it/s]\u001b[A\n",
      " 51%|█████▏    | 360/700 [00:10<00:08, 38.28it/s]\u001b[A\n",
      " 52%|█████▏    | 364/700 [00:10<00:08, 38.06it/s]\u001b[A\n",
      " 53%|█████▎    | 368/700 [00:10<00:08, 38.45it/s]\u001b[A\n",
      " 53%|█████▎    | 372/700 [00:10<00:08, 38.53it/s]\u001b[A\n",
      " 54%|█████▎    | 376/700 [00:10<00:08, 38.57it/s]\u001b[A\n",
      " 54%|█████▍    | 380/700 [00:10<00:08, 38.47it/s]\u001b[A\n",
      " 55%|█████▍    | 384/700 [00:10<00:08, 38.48it/s]\u001b[A\n",
      " 55%|█████▌    | 388/700 [00:10<00:08, 38.21it/s]\u001b[A\n",
      " 56%|█████▌    | 392/700 [00:11<00:08, 38.20it/s]\u001b[A\n",
      " 57%|█████▋    | 396/700 [00:11<00:07, 38.23it/s]\u001b[A\n",
      " 57%|█████▋    | 400/700 [00:11<00:07, 38.44it/s]\u001b[A\n",
      " 58%|█████▊    | 404/700 [00:11<00:07, 38.64it/s]\u001b[A\n",
      " 58%|█████▊    | 408/700 [00:11<00:07, 38.63it/s]\u001b[A\n",
      " 59%|█████▉    | 412/700 [00:11<00:07, 38.55it/s]\u001b[A\n",
      " 59%|█████▉    | 416/700 [00:11<00:07, 38.68it/s]\u001b[A\n",
      " 60%|██████    | 420/700 [00:11<00:07, 38.74it/s]\u001b[A\n",
      " 61%|██████    | 424/700 [00:11<00:07, 38.29it/s]\u001b[A\n",
      " 61%|██████    | 428/700 [00:11<00:07, 38.61it/s]\u001b[A\n",
      " 62%|██████▏   | 432/700 [00:12<00:06, 38.77it/s]\u001b[A\n",
      " 62%|██████▏   | 436/700 [00:12<00:06, 38.34it/s]\u001b[A\n",
      " 63%|██████▎   | 440/700 [00:12<00:06, 38.37it/s]\u001b[A\n",
      " 63%|██████▎   | 444/700 [00:12<00:06, 38.34it/s]\u001b[A\n",
      " 64%|██████▍   | 448/700 [00:12<00:06, 37.63it/s]\u001b[A\n",
      " 65%|██████▍   | 452/700 [00:12<00:06, 37.04it/s]\u001b[A\n",
      " 65%|██████▌   | 456/700 [00:12<00:06, 37.81it/s]\u001b[A\n",
      " 66%|██████▌   | 460/700 [00:12<00:06, 38.23it/s]\u001b[A\n",
      " 66%|██████▋   | 464/700 [00:12<00:06, 37.63it/s]\u001b[A\n",
      " 67%|██████▋   | 468/700 [00:13<00:06, 38.00it/s]\u001b[A\n",
      " 67%|██████▋   | 472/700 [00:13<00:05, 38.27it/s]\u001b[A\n",
      " 68%|██████▊   | 476/700 [00:13<00:05, 38.66it/s]\u001b[A\n",
      " 69%|██████▊   | 480/700 [00:13<00:05, 38.60it/s]\u001b[A\n",
      " 69%|██████▉   | 484/700 [00:13<00:05, 38.58it/s]\u001b[A\n",
      " 70%|██████▉   | 488/700 [00:13<00:05, 38.53it/s]\u001b[A\n",
      " 70%|███████   | 493/700 [00:13<00:05, 39.01it/s]\u001b[A\n",
      " 71%|███████   | 497/700 [00:13<00:05, 39.10it/s]\u001b[A\n",
      " 72%|███████▏  | 501/700 [00:13<00:05, 38.59it/s]\u001b[A\n",
      " 72%|███████▏  | 505/700 [00:13<00:05, 38.67it/s]\u001b[A\n",
      " 73%|███████▎  | 509/700 [00:14<00:04, 38.48it/s]\u001b[A\n",
      " 73%|███████▎  | 513/700 [00:14<00:04, 38.67it/s]\u001b[A\n",
      " 74%|███████▍  | 517/700 [00:14<00:04, 38.77it/s]\u001b[A\n",
      " 74%|███████▍  | 521/700 [00:14<00:04, 38.60it/s]\u001b[A\n",
      " 75%|███████▌  | 525/700 [00:14<00:04, 38.67it/s]\u001b[A\n",
      " 76%|███████▌  | 529/700 [00:14<00:04, 38.96it/s]\u001b[A\n",
      " 76%|███████▋  | 534/700 [00:14<00:04, 39.46it/s]\u001b[A\n",
      " 77%|███████▋  | 538/700 [00:14<00:04, 39.52it/s]\u001b[A\n",
      " 77%|███████▋  | 542/700 [00:14<00:04, 38.20it/s]\u001b[A\n",
      " 78%|███████▊  | 546/700 [00:15<00:04, 38.45it/s]\u001b[A\n",
      " 79%|███████▊  | 550/700 [00:15<00:03, 38.39it/s]\u001b[A\n",
      " 79%|███████▉  | 554/700 [00:15<00:03, 38.66it/s]\u001b[A\n",
      " 80%|███████▉  | 558/700 [00:15<00:03, 38.35it/s]\u001b[A\n",
      " 80%|████████  | 562/700 [00:15<00:03, 38.67it/s]\u001b[A\n",
      " 81%|████████  | 566/700 [00:15<00:03, 38.93it/s]\u001b[A\n",
      " 81%|████████▏ | 570/700 [00:15<00:03, 39.03it/s]\u001b[A\n",
      " 82%|████████▏ | 574/700 [00:15<00:03, 39.12it/s]\u001b[A\n",
      " 83%|████████▎ | 578/700 [00:15<00:03, 38.81it/s]\u001b[A\n",
      " 83%|████████▎ | 582/700 [00:15<00:03, 38.44it/s]\u001b[A\n",
      " 84%|████████▎ | 586/700 [00:16<00:02, 38.50it/s]\u001b[A\n",
      " 84%|████████▍ | 590/700 [00:16<00:02, 38.53it/s]\u001b[A\n",
      " 85%|████████▍ | 594/700 [00:16<00:02, 38.78it/s]\u001b[A\n",
      " 85%|████████▌ | 598/700 [00:16<00:02, 37.67it/s]\u001b[A\n",
      " 86%|████████▌ | 602/700 [00:16<00:02, 38.29it/s]\u001b[A\n",
      " 87%|████████▋ | 606/700 [00:16<00:02, 38.71it/s]\u001b[A\n",
      " 87%|████████▋ | 610/700 [00:16<00:02, 38.92it/s]\u001b[A\n",
      " 88%|████████▊ | 614/700 [00:16<00:02, 39.05it/s]\u001b[A\n",
      " 88%|████████▊ | 618/700 [00:16<00:02, 39.00it/s]\u001b[A\n",
      " 89%|████████▉ | 622/700 [00:17<00:02, 38.55it/s]\u001b[A\n",
      " 89%|████████▉ | 626/700 [00:17<00:01, 38.63it/s]\u001b[A\n",
      " 90%|█████████ | 630/700 [00:17<00:01, 38.38it/s]\u001b[A\n",
      " 91%|█████████ | 634/700 [00:17<00:01, 38.17it/s]\u001b[A\n",
      " 91%|█████████ | 638/700 [00:17<00:01, 38.54it/s]\u001b[A\n",
      " 92%|█████████▏| 642/700 [00:17<00:01, 38.82it/s]\u001b[A\n",
      " 92%|█████████▏| 646/700 [00:17<00:01, 38.92it/s]\u001b[A\n",
      " 93%|█████████▎| 650/700 [00:17<00:01, 38.65it/s]\u001b[A\n",
      " 93%|█████████▎| 654/700 [00:17<00:01, 38.92it/s]\u001b[A\n",
      " 94%|█████████▍| 658/700 [00:17<00:01, 38.17it/s]\u001b[A\n",
      " 95%|█████████▍| 662/700 [00:18<00:00, 38.21it/s]\u001b[A\n",
      " 95%|█████████▌| 666/700 [00:18<00:00, 37.98it/s]\u001b[A\n",
      " 96%|█████████▌| 670/700 [00:18<00:00, 38.22it/s]\u001b[A\n",
      " 96%|█████████▋| 674/700 [00:18<00:00, 38.49it/s]\u001b[A\n",
      " 97%|█████████▋| 678/700 [00:18<00:00, 38.49it/s]\u001b[A\n",
      " 97%|█████████▋| 682/700 [00:18<00:00, 38.76it/s]\u001b[A\n",
      " 98%|█████████▊| 686/700 [00:18<00:00, 38.49it/s]\u001b[A\n",
      " 99%|█████████▊| 691/700 [00:18<00:00, 39.07it/s]\u001b[A\n",
      " 99%|█████████▉| 695/700 [00:18<00:00, 39.19it/s]\u001b[A\n",
      "100%|██████████| 700/700 [00:19<00:00, 36.78it/s]\n"
     ]
    }
   ],
   "source": [
    "# инвертированный граф\n",
    "\n",
    "sir_model = sir.SIRModel(graph)\n",
    "\n",
    "\n",
    "config = mc.Configuration()\n",
    "config.add_model_parameter('beta', 0.005)\n",
    "config.add_model_parameter('gamma',0.007)\n",
    "config.add_model_parameter(\"percentage_infected\", 0.05)\n",
    "sir_model.set_initial_status(config)\n",
    "\n",
    "iterations = sir_model.iteration_bunch(700)\n",
    "susceptible1,infected1,recovered1 = [],[],[]\n",
    " \n",
    "for iteration in iterations:\n",
    "    node_count = iteration['node_count']\n",
    "    susceptible1.append(node_count[0]/N)\n",
    "    infected1.append(node_count[1]/N)\n",
    "    recovered1.append(node_count[2]/N)\n",
    "\n",
    "\n",
    "# рандомизированный инвертированный граф\n",
    "\n",
    "sir_model = sir.SIRModel(rand_graph_init)\n",
    "\n",
    "\n",
    "config = mc.Configuration()\n",
    "config.add_model_parameter('beta', 0.005)\n",
    "config.add_model_parameter('gamma',0.007)\n",
    "config.add_model_parameter(\"percentage_infected\", 0.05)\n",
    "sir_model.set_initial_status(config)\n",
    "\n",
    "iterations = sir_model.iteration_bunch(700)\n",
    "susceptible2,infected2,recovered2 = [],[],[]\n",
    " \n",
    "for iteration in iterations:\n",
    "    node_count = iteration['node_count']\n",
    "    susceptible2.append(node_count[0]/N)\n",
    "    infected2.append(node_count[1]/N)\n",
    "    recovered2.append(node_count[2]/N)"
   ]
  },
  {
   "cell_type": "code",
   "execution_count": null,
   "metadata": {
    "colab": {
     "base_uri": "https://localhost:8080/",
     "height": 581
    },
    "colab_type": "code",
    "id": "2RDApt0UjMvr",
    "outputId": "b8973a85-ea21-4a08-f03c-925982152a8e"
   },
   "outputs": [
    {
     "data": {
      "image/png": "[encoded data removed]",
      "text/plain": [
       "<Figure size 432x288 with 1 Axes>"
      ]
     },
     "metadata": {
      "needs_background": "light",
      "tags": []
     },
     "output_type": "display_data"
    },
    {
     "data": {
      "image/png": "[encoded data removed]",
      "text/plain": [
       "<Figure size 432x288 with 1 Axes>"
      ]
     },
     "metadata": {
      "needs_background": "light",
      "tags": []
     },
     "output_type": "display_data"
    }
   ],
   "source": [
    "\n",
    "plt.figure(figsize = (6,4))\n",
    "plt.title('SIR for initial net')\n",
    "plt.plot(infected1,color='r',label='infected')\n",
    "plt.plot(susceptible1, color='b',label='susceptible')\n",
    "plt.plot(recovered1, color='k',label='recovered')\n",
    "plt.xlabel('time', fontsize = 14)\n",
    "plt.ylabel('node/N', fontsize = 14)\n",
    "plt.legend()\n",
    "plt.show()\n",
    "\n",
    "plt.figure(figsize = (6,4))\n",
    "plt.title('SIR for randomized initial net')\n",
    "plt.plot(infected2,color='r',label='infected')\n",
    "plt.plot(susceptible2, color='b',label='susceptible')\n",
    "plt.plot(recovered2, color='k',label='recovered')\n",
    "plt.xlabel('time', fontsize = 14)\n",
    "plt.ylabel('node/N', fontsize = 14)\n",
    "plt.legend()\n",
    "plt.show()"
   ]
  },
  {
   "cell_type": "code",
   "execution_count": null,
   "metadata": {
    "colab": {},
    "colab_type": "code",
    "id": "EvjvLkmVxZx0"
   },
   "outputs": [],
   "source": [
    "edges_list = list(graph.edges())\n",
    "count = 0\n",
    "bidirectional = []\n",
    "for ed in edges_list:\n",
    "    ied = (ed[1],ed[0])\n",
    "    if ied in edges_list:\n",
    "        count += 1\n",
    "        bidirectional.append(ied)\n",
    "        edges_list.remove(ied)\n",
    "\n",
    "print('Bidirectional edges:', count)  \n",
    " \n",
    "import itertools\n",
    "import random\n",
    "import networkx\n",
    " \n",
    "random.seed(42)\n",
    "\"\"\"An interaction graph which can produce a \"random\" graph from\n",
    "    itself by an iterative edge-swap technique that preserves the degree\n",
    "    distribution of the original graph.\n",
    "    \"\"\"\n",
    "def randomize_by_edge_swaps(graph, num_iterations):\n",
    "        \"\"\"Randomizes the graph by swapping edges in such a way that\n",
    "        preserves the degree distribution of the original graph.\n",
    "        The underlying idea stems from the following. We have this\n",
    "        original formation of edges in the original graph:\n",
    "            head1   head2\n",
    "              |       |\n",
    "              |       |\n",
    "              |       |\n",
    "            tail1   tail2\n",
    "        Then we wish to swap the edges between these four nodes as one\n",
    "        of the two following possibilities:\n",
    "            head1   head2       head1---head2\n",
    "                 \\ /\n",
    "                  X\n",
    "                 / \\\n",
    "            tail1   tail2       tail1---tail2\n",
    "       \"\"\"\n",
    "        newgraph = graph.copy()\n",
    "        edge_list = list(newgraph.edges())\n",
    "        num_edges = len(edge_list)\n",
    "        #print(num_edges)\n",
    "        total_iterations = num_edges * num_iterations\n",
    " \n",
    "        for i in range(total_iterations):\n",
    "            rand_index1 = round(random.random() * (num_edges - 1))\n",
    "            rand_index2 = round(random.random() * (num_edges - 1))\n",
    "            original_edge1 = edge_list[rand_index1]\n",
    "            original_edge2 = edge_list[rand_index2]\n",
    "            head1, tail1 = original_edge1\n",
    "            head2, tail2 = original_edge2\n",
    " \n",
    "            # To pair head1 with tail2, and head2 with\n",
    "            # tail1\n",
    "            #\n",
    "            # To avoid self-loops in the graph, we have to check that,\n",
    "            # by pairing head1 with tail2 (respectively, head2 with\n",
    "            # tail1) that head1 and tail2 are not actually the same\n",
    "            # node. For example, suppose we have the edges (a, b) and\n",
    "            # (b, c) to swap.\n",
    "            #\n",
    "            #   b\n",
    "            #  / \\\n",
    "            # a   c\n",
    "            #\n",
    "            # We would have new edges (a, c) and (b, b) if we didn't do\n",
    "            # this check.\n",
    " \n",
    "            if head1 == tail2 or head2 == tail1:\n",
    "                continue\n",
    " \n",
    "            # Trying to avoid multiple edges between same pair of nodes;\n",
    "            # for example, suppose we had the following\n",
    "            #\n",
    "            # a   c\n",
    "            # |*  |           | original edge pair being looked at\n",
    "            # | * |\n",
    "            # |  *|           * existing edge, not in the pair\n",
    "            # b   d\n",
    "            #\n",
    "            # Then we might accidentally create yet another (a, d) edge.\n",
    "            # Note that this also solves the case of the following,\n",
    "            # missed by the first check, for edges (a, b) and (a, c)\n",
    "            #\n",
    "            #   a\n",
    "            #  / \\\n",
    "            # b   c\n",
    "            #\n",
    "            # These edges already exist.\n",
    "            if newgraph.has_edge(head1, tail2) or newgraph.has_edge(head2, tail1):\n",
    "                continue\n",
    " \n",
    " \n",
    "            #Do not change bidirectional edges\n",
    "            if newgraph.has_edge(tail1, head1) or newgraph.has_edge(tail2, head2):\n",
    "                continue\n",
    " \n",
    " \n",
    "            # Suceeded checks, perform the swap\n",
    "            original_edge1_data = newgraph[head1][tail1]\n",
    "            original_edge2_data = newgraph[head2][tail2]\n",
    " \n",
    "            newgraph.remove_edges_from((original_edge1, original_edge2))\n",
    " \n",
    "            new_edge1 = (head1, tail2, original_edge1_data)\n",
    "            new_edge2 = (head2, tail1, original_edge2_data)\n",
    "            newgraph.add_edges_from((new_edge1, new_edge2))\n",
    " \n",
    "            # Now update the entries at the indices randomly selected\n",
    "            edge_list[rand_index1] = (head1, tail2)\n",
    "            edge_list[rand_index2] = (head2, tail1)\n",
    " \n",
    "        return newgraph\n",
    " \n",
    "graph = nx.from_pandas_edgelist(init_net, 's', 't', create_using = nx.DiGraph())\n",
    "num_iterations = 1000\n",
    "r_graph = randomize_by_edge_swaps(graph, num_iterations)\n",
    " \n",
    "assert len(list(r_graph.edges())) == len(list(graph.edges()))"
   ]
  },
  {
   "cell_type": "code",
   "execution_count": null,
   "metadata": {},
   "outputs": [],
   "source": [
    "\n",
    " \n",
    "print('Transitivity before randomization:', nx.transitivity(graph))\n",
    "print('Transitivity after randomization:', nx.transitivity(r_graph))"
   ]
  }
 ],
 "metadata": {
  "colab": {
   "collapsed_sections": [],
   "name": "Diffusion in nets.ipynb",
   "provenance": [],
   "toc_visible": true
  },
  "kernelspec": {
   "display_name": "Python 3",
   "language": "python",
   "name": "python3"
  },
  "language_info": {
   "codemirror_mode": {
    "name": "ipython",
    "version": 3
   },
   "file_extension": ".py",
   "mimetype": "text/x-python",
   "name": "python",
   "nbconvert_exporter": "python",
   "pygments_lexer": "ipython3",
   "version": "3.7.6"
  }
 },
 "nbformat": 4,
 "nbformat_minor": 1
}
