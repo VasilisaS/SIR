{
 "cells": [
  {
   "cell_type": "markdown",
   "metadata": {},
   "source": [
    "Конфигурационная модель (https://networkx.github.io/documentation/stable/reference/generated/networkx.generators.degree_seq.directed_configuration_model.html)\n",
    "\n",
    "Генерируем рапсределние степеней (in/out):\n",
    "* in/out - Poisson\n",
    "* in/out - Степенное\n",
    "\n",
    "Определить количество петель, мультиребер, двунаправленных связей"
   ]
  },
  {
   "cell_type": "code",
   "execution_count": 1,
   "metadata": {},
   "outputs": [],
   "source": [
    "import networkx as nx"
   ]
  },
  {
   "cell_type": "code",
   "execution_count": 80,
   "metadata": {},
   "outputs": [],
   "source": [
    "def edges_type(degree_type, graph):\n",
    "    edges = graph.edges()\n",
    "    print (f\"Edges in graph with {degree_type} degree distribution: \", len(edges))\n",
    "\n",
    "    bidirected = 0\n",
    "    self_loops = 0\n",
    "    multiedges = 0\n",
    "\n",
    "    for edge in edges:\n",
    "        if edge[0] == edge[1]:\n",
    "            self_loops += 1 \n",
    "        if (edge[1], edge[0]) in edges:\n",
    "            bidirected += 1\n",
    "\n",
    "    edges_dict = {}\n",
    "    for edge in edges:\n",
    "        if edge in edges_dict:\n",
    "            edges_dict[edge] += 1\n",
    "        else:\n",
    "            edges_dict[edge] = 1\n",
    "        \n",
    "    for val in edges_dict.values():\n",
    "        if val > 1:\n",
    "            multiedges += 1        \n",
    "        \n",
    "    print(\"Bidirected edges: \", bidirected, \"(%f)\" % float(bidirected / len(edges)))\n",
    "    print(\"Self-loops in graph: \", self_loops, '(%f)' % float(self_loops / len(edges)))\n",
    "    print(\"Multi-edges in graph: \", multiedges, \"(%f)\" % float(multiedges / len(edges)))        "
   ]
  },
  {
   "cell_type": "code",
   "execution_count": 81,
   "metadata": {},
   "outputs": [
    {
     "name": "stdout",
     "output_type": "stream",
     "text": [
      "Edges in graph with poisson degree distribution:  14082\n",
      "Bidirected edges:  216 (0.015339)\n",
      "Self-loops in graph:  17 (0.001207)\n",
      "Multi-edges in graph:  90 (0.006391)\n"
     ]
    },
    {
     "data": {
      "image/png": "[encoded data removed]",
      "text/plain": [
       "<Figure size 432x288 with 1 Axes>"
      ]
     },
     "metadata": {
      "needs_background": "light"
     },
     "output_type": "display_data"
    }
   ],
   "source": [
    "from scipy.stats import poisson\n",
    "import seaborn as sb\n",
    "\n",
    "data_binom = poisson.rvs(mu=14, size=1000)\n",
    "ax = sb.distplot(data_binom,\n",
    "                  color='green',\n",
    "                  hist_kws={\"linewidth\": 25,'alpha':1})\n",
    "ax.set(xlabel = 'degree', ylabel = 'frequency')\n",
    "\n",
    "in_degree = data_binom\n",
    "out_degree = data_binom\n",
    "graph_poisson = nx.directed_configuration_model(in_degree, out_degree, seed=42)\n",
    "edges_type('poisson', graph_poisson)"
   ]
  },
  {
   "cell_type": "code",
   "execution_count": 83,
   "metadata": {},
   "outputs": [
    {
     "name": "stdout",
     "output_type": "stream",
     "text": [
      "Edges in graph with powerlaw degree distribution:  11998\n",
      "Bidirected edges:  176 (0.014669)\n",
      "Self-loops in graph:  14 (0.001167)\n",
      "Multi-edges in graph:  75 (0.006251)\n"
     ]
    },
    {
     "data": {
      "image/png": "[encoded data removed]",
      "text/plain": [
       "<Figure size 432x288 with 1 Axes>"
      ]
     },
     "metadata": {
      "needs_background": "light"
     },
     "output_type": "display_data"
    }
   ],
   "source": [
    "from scipy.stats import powerlaw\n",
    "import seaborn as sb\n",
    "\n",
    "data_powerlaw = powerlaw.rvs(a=5, size=1000)\n",
    "ax = sb.distplot(data_powerlaw,\n",
    "                  color='green',\n",
    "                  hist_kws={\"linewidth\": 25,'alpha':1})\n",
    "ax.set(xlabel = 'degree', ylabel = 'frequency')\n",
    "\n",
    "new_arr = list(np.array(data_powerlaw)*15)\n",
    "new_arr = [int(i) for i in new_arr]\n",
    "in_degree = new_arr\n",
    "out_degree = new_arr\n",
    "graph_powerlaw = nx.directed_configuration_model(in_degree, out_degree, seed=42)\n",
    "edges_type('powerlaw', graph_powerlaw)"
   ]
  },
  {
   "cell_type": "markdown",
   "metadata": {},
   "source": [
    "В графе со степенным распределением in/out степеней доли двунаправленных мультиребер в графах близки"
   ]
  }
 ],
 "metadata": {
  "kernelspec": {
   "display_name": "Python 3",
   "language": "python",
   "name": "python3"
  },
  "language_info": {
   "codemirror_mode": {
    "name": "ipython",
    "version": 3
   },
   "file_extension": ".py",
   "mimetype": "text/x-python",
   "name": "python",
   "nbconvert_exporter": "python",
   "pygments_lexer": "ipython3",
   "version": "3.7.6"
  }
 },
 "nbformat": 4,
 "nbformat_minor": 2
}
